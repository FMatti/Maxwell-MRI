{
 "cells": [
  {
   "cell_type": "code",
   "execution_count": 1,
   "metadata": {},
   "outputs": [],
   "source": [
    "import fenics as fen\n",
    "import numpy as np\n",
    "from examples.rectangular_waveguide.rectangular_waveguide import RectangularWaveguide"
   ]
  },
  {
   "cell_type": "code",
   "execution_count": 2,
   "metadata": {},
   "outputs": [],
   "source": [
    "Lx, Ly = 5.0, 1.0\n",
    "Nx, Ny = 201, 41\n",
    "m = 1\n",
    "g_N = fen.Expression('sin(x[1]*m*pi/Ly)', degree=2, Ly=Ly, m=m)\n",
    "WG = RectangularWaveguide(Lx=Lx, Ly=Ly, Nx=Nx, Ny=Ny, g_N=g_N)\n",
    "WG.setup()"
   ]
  },
  {
   "cell_type": "code",
   "execution_count": 3,
   "metadata": {},
   "outputs": [],
   "source": [
    "N = 100\n",
    "A = []\n",
    "omegas = np.linspace(3, 4, N)\n",
    "for omega in omegas:\n",
    "    WG.solve(omega)\n",
    "    A_sol = WG.get_solution()\n",
    "    A.append(A_sol.vector())"
   ]
  },
  {
   "cell_type": "code",
   "execution_count": 4,
   "metadata": {},
   "outputs": [],
   "source": [
    "def inner_product(v, w, M=None):\n",
    "    \"\"\"Compute M-inner-product of two vectors v and w\"\"\"\n",
    "    if M is None:\n",
    "        return (v*w).sum()\n",
    "    return ((M*v)*w).sum()"
   ]
  },
  {
   "cell_type": "code",
   "execution_count": 5,
   "metadata": {},
   "outputs": [],
   "source": [
    "def norm(v, M=None):\n",
    "    \"\"\"Compute M-norm of a vector v\"\"\"\n",
    "    return pow(inner_product(v, v, M), 0.5)"
   ]
  },
  {
   "cell_type": "code",
   "execution_count": 6,
   "metadata": {},
   "outputs": [],
   "source": [
    "def gram_schmidt(E, M=None):\n",
    "    \"\"\"M-orthonormalize the elements of a list E\"\"\"\n",
    "    E = [fen.Vector(e) for e in E]\n",
    "    E_on = [E[0] / norm(E[0], M)]\n",
    "    for i in range(1, len(E)):\n",
    "        for j in range(i):\n",
    "            E[i] -= inner_product(E_on[j], E[i], M) * E_on[j]\n",
    "        E_on.append(E[i] / norm(E[i], M))\n",
    "    return E_on"
   ]
  },
  {
   "cell_type": "code",
   "execution_count": 7,
   "metadata": {},
   "outputs": [],
   "source": [
    "def get_orthonormal_vectors(V, N, M=None, seed=0):\n",
    "    \"\"\"Produce list of N M-orthonormal elements\"\"\"\n",
    "    np.random.seed(seed)\n",
    "    E = []\n",
    "    for i in range(N):\n",
    "        e = fen.Function(V).vector()\n",
    "        e[:] = np.random.randn(e.size())\n",
    "        E.append(e)\n",
    "    return gram_schmidt(E, M)"
   ]
  },
  {
   "cell_type": "code",
   "execution_count": 8,
   "metadata": {},
   "outputs": [],
   "source": [
    "def householder_triangularization(A, E, M=None):\n",
    "    \"\"\"Compute the matrix R of a QR-decomposition of A\"\"\"\n",
    "    N = len(A)\n",
    "    # Ultra-explicit copy assignment (cost me 5h of my life, fuck you dolfin!!!)\n",
    "    A = [fen.Vector(a) for a in A]\n",
    "    E = [fen.Vector(e) for e in E]\n",
    "    R = np.zeros((N, N))\n",
    "\n",
    "    for k in range(N):\n",
    "        R[k, k] = norm(A[k], M)\n",
    "\n",
    "        alpha = inner_product(E[k], A[k], M)\n",
    "        if abs(alpha) > 1e-17:\n",
    "            E[k] *= - alpha / abs(alpha)\n",
    "  \n",
    "        v = R[k, k] * E[k] - A[k]\n",
    "        for j in range(k):\n",
    "            v -= inner_product(E[j], v, M) * E[j]\n",
    "\n",
    "        sigma = norm(v, M)\n",
    "        if abs(sigma) > 1e-17:\n",
    "            v /= sigma\n",
    "        else:\n",
    "            v = E[k]\n",
    "\n",
    "        for j in range(k+1, N):\n",
    "            A[j] -= 2 * v * inner_product(v, A[j], M)\n",
    "            R[k, j] = inner_product(E[k], A[j], M)\n",
    "            A[j] -= E[k] * R[k, j]\n",
    "\n",
    "    return R"
   ]
  },
  {
   "cell_type": "code",
   "execution_count": 11,
   "metadata": {},
   "outputs": [],
   "source": [
    "M = WG.get_M(tosparse=False)#fen.assemble(fen.dot(fen.TrialFunction(WG.V), fen.TestFunction(WG.V)) * fen.dx)\n",
    "E = get_orthonormal_vectors(WG.V, len(A), M)\n",
    "R = householder_triangularization(A, E, M)"
   ]
  },
  {
   "cell_type": "code",
   "execution_count": 12,
   "metadata": {},
   "outputs": [
    {
     "name": "stdout",
     "output_type": "stream",
     "text": [
      "0.701847716177\n"
     ]
    }
   ],
   "source": [
    "G = np.array([[inner_product(A[i], A[j], M) for i in range(N)] for j in range(N)])\n",
    "print(np.sum(np.abs(G - R.T @ R)))"
   ]
  }
 ],
 "metadata": {
  "kernelspec": {
   "display_name": "Python 3",
   "language": "python",
   "name": "python3"
  },
  "language_info": {
   "codemirror_mode": {
    "name": "ipython",
    "version": 3
   },
   "file_extension": ".py",
   "mimetype": "text/x-python",
   "name": "python",
   "nbconvert_exporter": "python",
   "pygments_lexer": "ipython3",
   "version": "3.6.7"
  }
 },
 "nbformat": 4,
 "nbformat_minor": 2
}
