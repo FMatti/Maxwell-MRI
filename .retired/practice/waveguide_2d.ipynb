{
 "cells": [
  {
   "cell_type": "markdown",
   "metadata": {},
   "source": [
    "## Two-dimensional waveguide"
   ]
  },
  {
   "cell_type": "markdown",
   "metadata": {},
   "source": [
    "Derivation and discussion in notes."
   ]
  },
  {
   "cell_type": "code",
   "execution_count": 1,
   "metadata": {},
   "outputs": [],
   "source": [
    "import fenics as fen\n",
    "import mshr\n",
    "import numpy as np\n",
    "import matplotlib.pyplot as plt\n",
    "%matplotlib inline"
   ]
  },
  {
   "cell_type": "code",
   "execution_count": 2,
   "metadata": {},
   "outputs": [],
   "source": [
    "height = 5.0\n",
    "width = 1.0\n",
    "domain = mshr.Rectangle(fen.Point(0.0, 0.0), fen.Point(height, width))\n",
    "mesh = mshr.generate_mesh(domain, 64)\n",
    "V = fen.FunctionSpace(mesh, 'P', 1)"
   ]
  },
  {
   "cell_type": "code",
   "execution_count": 3,
   "metadata": {},
   "outputs": [],
   "source": [
    "class Walls(fen.SubDomain):\n",
    "    def inside(self, x, on_boundary):\n",
    "        return on_boundary and (fen.near(x[1], 0) or fen.near(x[1], width))\n",
    "    \n",
    "class Inlet(fen.SubDomain):\n",
    "    def inside(self, x, on_boundary):\n",
    "        return on_boundary and fen.near(x[0], 0)\n",
    "    \n",
    "class Outlet(fen.SubDomain):\n",
    "    def inside(self, x, on_boundary):\n",
    "        return on_boundary and fen.near(x[0], height)"
   ]
  },
  {
   "cell_type": "code",
   "execution_count": 4,
   "metadata": {},
   "outputs": [],
   "source": [
    "v = fen.TestFunction(V)\n",
    "A = fen.TrialFunction(V)\n",
    "\n",
    "dx = fen.Measure('dx', domain=mesh)\n",
    "\n",
    "mu = 1.0 # 4*np.pi*1e-7\n",
    "eps = 1.0 # 8.85418782e-12\n",
    "\n",
    "a_stiff = (1/mu) * fen.dot(fen.grad(A), fen.grad(v))*dx\n",
    "a_mass = eps*A*v*dx\n",
    "omega = 5\n",
    "a = a_stiff - omega**2 * a_mass\n",
    "\n",
    "# Technique seen at https://fenicsproject.org/pub/tutorial/sphinx1/._ftut1005.html\n",
    "boundary = fen.MeshFunction('size_t', mesh, mesh.topology().dim() - 1)\n",
    "inlet = Inlet()\n",
    "inlet.mark(boundary, 1)\n",
    "walls = Walls()\n",
    "walls.mark(boundary, 2)\n",
    "outlet = Outlet()\n",
    "outlet.mark(boundary, 3)\n",
    "ds = fen.Measure('ds', subdomain_data=boundary)"
   ]
  },
  {
   "cell_type": "markdown",
   "metadata": {},
   "source": [
    "### Neumann boundary conditions imposed by a magnetic field B"
   ]
  },
  {
   "cell_type": "code",
   "execution_count": 5,
   "metadata": {},
   "outputs": [
    {
     "data": {
      "text/plain": [
       "0.14150033363202655"
      ]
     },
     "execution_count": 5,
     "metadata": {},
     "output_type": "execute_result"
    },
    {
     "data": {
      "image/png": "[encoded data removed]",
      "text/plain": [
       "<Figure size 720x216 with 1 Axes>"
      ]
     },
     "metadata": {
      "needs_background": "light"
     },
     "output_type": "display_data"
    }
   ],
   "source": [
    "B_0 = 1.0\n",
    "g_zro = fen.Constant(0.0)\n",
    "g_cst = fen.Expression('-(1/mu)*B_0', degree=2, B_0=B_0, mu=mu)\n",
    "g_exp = fen.Expression('-(1/mu)*B_0*exp(-pow(x[1] - width/2, 2) / 0.01)', degree=2, B_0=B_0, mu=mu, width=width)\n",
    "L = g_cst*v*ds(1)# + g_zro*v*ds(1)\n",
    "#L = g_exp*v*ds(1)# + g_zro*v*ds(2)\n",
    "bc_walls = fen.DirichletBC(V, fen.Constant('0.0'), walls)\n",
    "bc_outlet = fen.DirichletBC(V, fen.Constant('0.0'), outlet)\n",
    "bcs = [bc_walls, bc_outlet]\n",
    "\n",
    "A = fen.Function(V)\n",
    "fen.solve(a == L, A, bcs)\n",
    "plt.figure(figsize=(10, 3))\n",
    "fen.plot(A)\n",
    "np.mean(np.abs(A.compute_vertex_values(mesh)))"
   ]
  },
  {
   "cell_type": "markdown",
   "metadata": {},
   "source": [
    "### Dirichlet boundary conditions imposed by electric field E\n",
    "This is wrong, because I'm not yet sure how to deal with complex numbers. $E$ is thus in general phase-shifted below."
   ]
  },
  {
   "cell_type": "code",
   "execution_count": 6,
   "metadata": {},
   "outputs": [
    {
     "data": {
      "text/plain": [
       "<matplotlib.tri.tricontour.TriContourSet at 0x7f017c06aef0>"
      ]
     },
     "execution_count": 6,
     "metadata": {},
     "output_type": "execute_result"
    },
    {
     "data": {
      "image/png": "[encoded data removed]",
      "text/plain": [
       "<Figure size 720x216 with 1 Axes>"
      ]
     },
     "metadata": {
      "needs_background": "light"
     },
     "output_type": "display_data"
    }
   ],
   "source": [
    "E_0 = 1.0\n",
    "E_zro = fen.Constant(0.0)\n",
    "E_cst = fen.Expression('-(1/omega)*E_0', degree=2, E_0=E_0, omega=omega)\n",
    "E_exp = fen.Expression('-(1/omega)*E_0*exp(-pow(x[1] - width/2, 2) / 0.01)', degree=2, E_0=E_0, omega=omega, width=width)\n",
    "#E_cpl = fen.Expression('(i/omega)*E_0', degree=2, E_0=E_0, omega=omega)\n",
    "L = fen.Constant(0.0)*v*dx\n",
    "bc = fen.DirichletBC(V, E_cst , Inlet())\n",
    "#bc = fen.DirichletBC(V, E_zro, Walls())\n",
    "\n",
    "A = fen.Function(V)\n",
    "fen.solve(a == L, A, bc)\n",
    "plt.figure(figsize=(10, 3))\n",
    "fen.plot(A)"
   ]
  }
 ],
 "metadata": {
  "kernelspec": {
   "display_name": "Python 3",
   "language": "python",
   "name": "python3"
  },
  "language_info": {
   "codemirror_mode": {
    "name": "ipython",
    "version": 3
   },
   "file_extension": ".py",
   "mimetype": "text/x-python",
   "name": "python",
   "nbconvert_exporter": "python",
   "pygments_lexer": "ipython3",
   "version": "3.6.7"
  }
 },
 "nbformat": 4,
 "nbformat_minor": 2
}
