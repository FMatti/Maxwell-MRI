{
 "cells": [
  {
   "cell_type": "markdown",
   "metadata": {},
   "source": [
    "# Circular waveguide filter - Discussion"
   ]
  },
  {
   "cell_type": "code",
   "execution_count": 13,
   "metadata": {},
   "outputs": [
    {
     "name": "stdout",
     "output_type": "stream",
     "text": [
      "The autoreload extension is already loaded. To reload it, use:\n",
      "  %reload_ext autoreload\n"
     ]
    }
   ],
   "source": [
    "# Temporary 'hack' for working directory not coinciding with file directory\n",
    "import os\n",
    "os.chdir('/home/fenics/shared/examples/circular_waveguide_filter')\n",
    "\n",
    "%load_ext autoreload\n",
    "%autoreload 2"
   ]
  },
  {
   "cell_type": "code",
   "execution_count": 14,
   "metadata": {},
   "outputs": [],
   "source": [
    "import time\n",
    "import numpy as np\n",
    "import matplotlib.pyplot as plt\n",
    "\n",
    "import fenics as fen\n",
    "from circular_waveguide_filter import CircularWaveguideFilter\n",
    "\n",
    "from context import src\n",
    "from src.vector_space import VectorSpaceL2\n",
    "from src.minimal_rational_interpolation import MinimalRationalInterpolation\n",
    "import src.helpers as helpers"
   ]
  },
  {
   "cell_type": "markdown",
   "metadata": {},
   "source": [
    "### Dimensions and properties"
   ]
  },
  {
   "cell_type": "code",
   "execution_count": 15,
   "metadata": {},
   "outputs": [],
   "source": [
    "# Dimensions in meters\n",
    "Lc = 0.04387  # Length of the cavities\n",
    "Ls = 0.00150  # Length of the slots\n",
    "Lr = 0.02000  # Length of rectangular input/output WR75-waveguide\n",
    "Hr = 0.009525 # Height of rectangular input/output WR75-waveguide\n",
    "Wr = 0.01905  # Width of rectangular input/output WR75-waveguide\n",
    "\n",
    "Dx = Ls/2 + Lc + Ls + Lr  # |x|-coordinate of input/output boundary\n",
    "Dy = Wr/2  # |y|-limit of input/output boundary\n",
    "Dz = Hr/2  # |z|-limit of input/output boundary"
   ]
  },
  {
   "cell_type": "code",
   "execution_count": 16,
   "metadata": {
    "scrolled": true
   },
   "outputs": [],
   "source": [
    "class B_N(fen.SubDomain):\n",
    "    def inside(self, x, on_boundary):\n",
    "        return on_boundary and fen.near(abs(x[0]), Dx) and x[1]>-Dy and x[1]<Dy and x[2]>-Dz and x[2]<Dz\n",
    "\n",
    "class g_N_L(fen.UserExpression):\n",
    "    def eval(self, value, x):\n",
    "        value[0] = 0.0\n",
    "        value[1] = 0.0\n",
    "        value[2] = 1.0 / (4e-7*np.pi) if fen.near(x[0], -Dx) else 0.0\n",
    "    def value_shape(self):\n",
    "        return (3,)\n",
    "\n",
    "class g_N_R(fen.UserExpression):\n",
    "    def eval(self, value, x):\n",
    "        value[0] = 0.0\n",
    "        value[1] = 0.0\n",
    "        value[2] = - 1.0 / (4e-7*np.pi) if fen.near(x[0], Dx) else 0.0\n",
    "    def value_shape(self):\n",
    "        return (3,)\n",
    "\n",
    "mesh = os.getcwd() + '/model/DMCWF_coarse.xml'\n",
    "CWF = CircularWaveguideFilter(mesh, B_N, g_N=[g_N_L(), g_N_R()])\n",
    "VS = VectorSpaceL2(CWF)\n",
    "CWF.setup()"
   ]
  },
  {
   "cell_type": "markdown",
   "metadata": {},
   "source": [
    "### Solution of problem"
   ]
  },
  {
   "cell_type": "code",
   "execution_count": 18,
   "metadata": {},
   "outputs": [
    {
     "name": "stderr",
     "output_type": "stream",
     "text": [
      "/usr/lib/python3/dist-packages/numpy/core/numeric.py:531: ComplexWarning: Casting complex values to real discards the imaginary part\n",
      "  return array(a, dtype, copy=False, order=order)\n"
     ]
    },
    {
     "data": {
      "image/png": "[encoded data removed]",
      "text/plain": [
       "<Figure size 432x288 with 1 Axes>"
      ]
     },
     "metadata": {
      "needs_background": "light"
     },
     "output_type": "display_data"
    }
   ],
   "source": [
    "a = 2*np.pi*1.165e+10\n",
    "b = 2*np.pi*1.195e+10\n",
    "fig, ax = plt.subplots(figsize=(6, 4), sharex=True)\n",
    "omegas = np.linspace(a, b, 3)\n",
    "CWF.solve(omegas, solver='fenics')\n",
    "#CWF.save_solution('snapshots/linspace_1.165e+10_1.195e+10_50.obj')\n",
    "#CWF.load_solution('snapshots/linspace_4e10_8e10_300.obj')\n",
    "helpers.plot_solution_norms(ax, CWF, VS)"
   ]
  },
  {
   "cell_type": "code",
   "execution_count": 13,
   "metadata": {},
   "outputs": [
    {
     "data": {
      "image/png": "[encoded data removed]",
      "text/plain": [
       "<Figure size 432x288 with 1 Axes>"
      ]
     },
     "metadata": {
      "needs_background": "light"
     },
     "output_type": "display_data"
    }
   ],
   "source": [
    "a = 2*np.pi*1.165e+10\n",
    "b = 2*np.pi*1.195e+10\n",
    "fig, ax = plt.subplots(figsize=(6, 4), sharex=True)\n",
    "omegas = np.linspace(a, b, 20)\n",
    "CWF.solve(omegas)\n",
    "#CWF.save_solution('snapshots/linspace_4e10_8e10_300_RHS.obj')\n",
    "#CWF.load_solution( 'snapshots/linspace_4e10_8e10_300.obj')\n",
    "helpers.plot_solution_norms(ax, CWF, VS)"
   ]
  },
  {
   "cell_type": "markdown",
   "metadata": {},
   "source": [
    "#### Analyzing scattering coefficients"
   ]
  },
  {
   "cell_type": "code",
   "execution_count": 9,
   "metadata": {},
   "outputs": [],
   "source": [
    "def get_interpolatory_solutions(omega, CWF_L, CWF_R, VS):\n",
    "    omega_test = np.linspace(np.min(omega), np.max(omega), 1000)\n",
    "    MRI = MinimalRationalInterpolation(VS)\n",
    "    MRI.compute_surrogate(CWF_L, omegas=omega_test, greedy=True, tol=1e-2, solver='fenics')\n",
    "    U_MRI_L = MRI.evaluate_surrogate(CWF_L.get_solution(), omega).T\n",
    "    MRI.compute_surrogate(CWF_R, omegas=omega_test, greedy=True, tol=1e-2, solver='fenics')\n",
    "    U_MRI_R = MRI.evaluate_surrogate(CWF_R.get_solution(), omega).T\n",
    "    U_MRI = np.empty((len(omega), U_MRI_R.shape[1]), dtype=complex)\n",
    "    U_MRI[::2] = U_MRI_L\n",
    "    U_MRI[1::2] = U_MRI_R\n",
    "    return U_MRI"
   ]
  },
  {
   "cell_type": "code",
   "execution_count": 10,
   "metadata": {},
   "outputs": [],
   "source": [
    "def compute_scattering_matrices(F, U, freq, freq_c=6.56e+9, freq_0=1e+10):\n",
    "    N = len(freq) // 2\n",
    "    S = [np.empty((2, 2), dtype=complex)] * N\n",
    "    for n in range(N):\n",
    "        S[n][0, 0] = np.inner(F[0], U[2*n])\n",
    "        S[n][0, 1] = np.inner(F[1], U[2*n])\n",
    "        S[n][1, 0] = np.inner(F[0], U[2*n+1])\n",
    "        S[n][1, 1] = np.inner(F[1], U[2*n+1])\n",
    "        S[n] *= 1j*freq[n]*np.sqrt((1 - (freq_c/freq_0)**2) / (1 - (freq_c / freq[n])**2))\n",
    "        S[n] = np.eye(2) - 2 * np.linalg.inv(np.eye(2) + S[n])\n",
    "    return S"
   ]
  },
  {
   "cell_type": "code",
   "execution_count": 11,
   "metadata": {},
   "outputs": [],
   "source": [
    "def get_scattering_coefficients(S):\n",
    "    S11 = np.abs(S)[:, 0, 0]\n",
    "    S21 = np.abs(S)[:, 1, 0]\n",
    "    S12 = np.abs(S)[:, 0, 1]\n",
    "    S22 = np.abs(S)[:, 1, 1]\n",
    "    return S11, S21, S12, S22"
   ]
  },
  {
   "cell_type": "code",
   "execution_count": 12,
   "metadata": {},
   "outputs": [
    {
     "ename": "KeyboardInterrupt",
     "evalue": "",
     "output_type": "error",
     "traceback": [
      "\u001b[0;31m---------------------------------------------------------------------------\u001b[0m",
      "\u001b[0;31mKeyboardInterrupt\u001b[0m                         Traceback (most recent call last)",
      "\u001b[0;32m<ipython-input-12-949156fbcdd6>\u001b[0m in \u001b[0;36m<module>\u001b[0;34m\u001b[0m\n\u001b[1;32m      8\u001b[0m \u001b[0mCWF_R\u001b[0m \u001b[0;34m=\u001b[0m \u001b[0mCircularWaveguideFilter\u001b[0m\u001b[0;34m(\u001b[0m\u001b[0mmesh\u001b[0m\u001b[0;34m,\u001b[0m \u001b[0mB_N\u001b[0m\u001b[0;34m,\u001b[0m \u001b[0mg_N\u001b[0m\u001b[0;34m=\u001b[0m\u001b[0mg_N_R\u001b[0m\u001b[0;34m(\u001b[0m\u001b[0;34m)\u001b[0m\u001b[0;34m)\u001b[0m\u001b[0;34m\u001b[0m\u001b[0;34m\u001b[0m\u001b[0m\n\u001b[1;32m      9\u001b[0m \u001b[0mCWF_R\u001b[0m\u001b[0;34m.\u001b[0m\u001b[0msetup\u001b[0m\u001b[0;34m(\u001b[0m\u001b[0;34m)\u001b[0m\u001b[0;34m\u001b[0m\u001b[0;34m\u001b[0m\u001b[0m\n\u001b[0;32m---> 10\u001b[0;31m \u001b[0mU_MRI\u001b[0m \u001b[0;34m=\u001b[0m \u001b[0mget_interpolatory_solutions\u001b[0m\u001b[0;34m(\u001b[0m\u001b[0mfreq\u001b[0m\u001b[0;34m,\u001b[0m \u001b[0mCWF_L\u001b[0m\u001b[0;34m,\u001b[0m \u001b[0mCWF_R\u001b[0m\u001b[0;34m,\u001b[0m \u001b[0mVS\u001b[0m\u001b[0;34m)\u001b[0m\u001b[0;34m\u001b[0m\u001b[0;34m\u001b[0m\u001b[0m\n\u001b[0m\u001b[1;32m     11\u001b[0m \u001b[0;34m\u001b[0m\u001b[0m\n\u001b[1;32m     12\u001b[0m \u001b[0mS_FEM\u001b[0m \u001b[0;34m=\u001b[0m \u001b[0mcompute_scattering_matrices\u001b[0m\u001b[0;34m(\u001b[0m\u001b[0mF\u001b[0m\u001b[0;34m,\u001b[0m \u001b[0mU_FEM\u001b[0m\u001b[0;34m,\u001b[0m \u001b[0mfreq\u001b[0m\u001b[0;34m)\u001b[0m\u001b[0;34m\u001b[0m\u001b[0;34m\u001b[0m\u001b[0m\n",
      "\u001b[0;32m<ipython-input-9-393deee110db>\u001b[0m in \u001b[0;36mget_interpolatory_solutions\u001b[0;34m(omega, CWF_L, CWF_R, VS)\u001b[0m\n\u001b[1;32m      2\u001b[0m     \u001b[0momega_test\u001b[0m \u001b[0;34m=\u001b[0m \u001b[0mnp\u001b[0m\u001b[0;34m.\u001b[0m\u001b[0mlinspace\u001b[0m\u001b[0;34m(\u001b[0m\u001b[0mnp\u001b[0m\u001b[0;34m.\u001b[0m\u001b[0mmin\u001b[0m\u001b[0;34m(\u001b[0m\u001b[0momega\u001b[0m\u001b[0;34m)\u001b[0m\u001b[0;34m,\u001b[0m \u001b[0mnp\u001b[0m\u001b[0;34m.\u001b[0m\u001b[0mmax\u001b[0m\u001b[0;34m(\u001b[0m\u001b[0momega\u001b[0m\u001b[0;34m)\u001b[0m\u001b[0;34m,\u001b[0m \u001b[0;36m1000\u001b[0m\u001b[0;34m)\u001b[0m\u001b[0;34m\u001b[0m\u001b[0;34m\u001b[0m\u001b[0m\n\u001b[1;32m      3\u001b[0m     \u001b[0mMRI\u001b[0m \u001b[0;34m=\u001b[0m \u001b[0mMinimalRationalInterpolation\u001b[0m\u001b[0;34m(\u001b[0m\u001b[0mVS\u001b[0m\u001b[0;34m)\u001b[0m\u001b[0;34m\u001b[0m\u001b[0;34m\u001b[0m\u001b[0m\n\u001b[0;32m----> 4\u001b[0;31m     \u001b[0mMRI\u001b[0m\u001b[0;34m.\u001b[0m\u001b[0mcompute_surrogate\u001b[0m\u001b[0;34m(\u001b[0m\u001b[0mCWF_L\u001b[0m\u001b[0;34m,\u001b[0m \u001b[0momegas\u001b[0m\u001b[0;34m=\u001b[0m\u001b[0momega_test\u001b[0m\u001b[0;34m,\u001b[0m \u001b[0mgreedy\u001b[0m\u001b[0;34m=\u001b[0m\u001b[0;32mTrue\u001b[0m\u001b[0;34m,\u001b[0m \u001b[0mtol\u001b[0m\u001b[0;34m=\u001b[0m\u001b[0;36m1e-2\u001b[0m\u001b[0;34m)\u001b[0m\u001b[0;34m\u001b[0m\u001b[0;34m\u001b[0m\u001b[0m\n\u001b[0m\u001b[1;32m      5\u001b[0m     \u001b[0mU_MRI_L\u001b[0m \u001b[0;34m=\u001b[0m \u001b[0mMRI\u001b[0m\u001b[0;34m.\u001b[0m\u001b[0mevaluate_surrogate\u001b[0m\u001b[0;34m(\u001b[0m\u001b[0mCWF_L\u001b[0m\u001b[0;34m.\u001b[0m\u001b[0mget_solution\u001b[0m\u001b[0;34m(\u001b[0m\u001b[0;34m)\u001b[0m\u001b[0;34m,\u001b[0m \u001b[0momega\u001b[0m\u001b[0;34m)\u001b[0m\u001b[0;34m.\u001b[0m\u001b[0mT\u001b[0m\u001b[0;34m\u001b[0m\u001b[0;34m\u001b[0m\u001b[0m\n\u001b[1;32m      6\u001b[0m     \u001b[0mMRI\u001b[0m\u001b[0;34m.\u001b[0m\u001b[0mcompute_surrogate\u001b[0m\u001b[0;34m(\u001b[0m\u001b[0mCWF_R\u001b[0m\u001b[0;34m,\u001b[0m \u001b[0momegas\u001b[0m\u001b[0;34m=\u001b[0m\u001b[0momega_test\u001b[0m\u001b[0;34m,\u001b[0m \u001b[0mgreedy\u001b[0m\u001b[0;34m=\u001b[0m\u001b[0;32mTrue\u001b[0m\u001b[0;34m,\u001b[0m \u001b[0mtol\u001b[0m\u001b[0;34m=\u001b[0m\u001b[0;36m1e-2\u001b[0m\u001b[0;34m)\u001b[0m\u001b[0;34m\u001b[0m\u001b[0;34m\u001b[0m\u001b[0m\n",
      "\u001b[0;32m~/shared/src/minimal_rational_interpolation.py\u001b[0m in \u001b[0;36mcompute_surrogate\u001b[0;34m(self, target, omegas, greedy, tol, n_iter, return_history)\u001b[0m\n\u001b[1;32m    174\u001b[0m             \u001b[0mis_eligible\u001b[0m\u001b[0;34m[\u001b[0m\u001b[0margmin\u001b[0m\u001b[0;34m]\u001b[0m \u001b[0;34m=\u001b[0m \u001b[0;32mFalse\u001b[0m\u001b[0;34m\u001b[0m\u001b[0;34m\u001b[0m\u001b[0m\n\u001b[1;32m    175\u001b[0m             \u001b[0mu_hat\u001b[0m \u001b[0;34m=\u001b[0m \u001b[0mself\u001b[0m\u001b[0;34m.\u001b[0m\u001b[0mR\u001b[0m \u001b[0;34m@\u001b[0m \u001b[0mself\u001b[0m\u001b[0;34m.\u001b[0m\u001b[0mu_ring\u001b[0m\u001b[0;34m(\u001b[0m\u001b[0momegas\u001b[0m\u001b[0;34m[\u001b[0m\u001b[0margmin\u001b[0m\u001b[0;34m]\u001b[0m\u001b[0;34m)\u001b[0m\u001b[0;34m\u001b[0m\u001b[0;34m\u001b[0m\u001b[0m\n\u001b[0;32m--> 176\u001b[0;31m             \u001b[0mtarget\u001b[0m\u001b[0;34m.\u001b[0m\u001b[0msolve\u001b[0m\u001b[0;34m(\u001b[0m\u001b[0momegas\u001b[0m\u001b[0;34m[\u001b[0m\u001b[0margmin\u001b[0m\u001b[0;34m]\u001b[0m\u001b[0;34m,\u001b[0m \u001b[0maccumulate\u001b[0m\u001b[0;34m=\u001b[0m\u001b[0;32mTrue\u001b[0m\u001b[0;34m)\u001b[0m\u001b[0;34m\u001b[0m\u001b[0;34m\u001b[0m\u001b[0m\n\u001b[0m\u001b[1;32m    177\u001b[0m             \u001b[0mself\u001b[0m\u001b[0;34m.\u001b[0m\u001b[0m_build_surrogate\u001b[0m\u001b[0;34m(\u001b[0m\u001b[0mtarget\u001b[0m\u001b[0;34m.\u001b[0m\u001b[0mget_solution\u001b[0m\u001b[0;34m(\u001b[0m\u001b[0mtrace\u001b[0m\u001b[0;34m=\u001b[0m\u001b[0mself\u001b[0m\u001b[0;34m.\u001b[0m\u001b[0mVS\u001b[0m\u001b[0;34m.\u001b[0m\u001b[0mtrace\u001b[0m\u001b[0;34m)\u001b[0m\u001b[0;34m,\u001b[0m \u001b[0momegas\u001b[0m\u001b[0;34m[\u001b[0m\u001b[0mself\u001b[0m\u001b[0;34m.\u001b[0m\u001b[0msupports\u001b[0m\u001b[0;34m]\u001b[0m\u001b[0;34m,\u001b[0m \u001b[0madditive\u001b[0m\u001b[0;34m=\u001b[0m\u001b[0;32mTrue\u001b[0m\u001b[0;34m)\u001b[0m\u001b[0;34m\u001b[0m\u001b[0;34m\u001b[0m\u001b[0m\n\u001b[1;32m    178\u001b[0m             \u001b[0;32mif\u001b[0m \u001b[0mreturn_history\u001b[0m\u001b[0;34m:\u001b[0m\u001b[0;34m\u001b[0m\u001b[0;34m\u001b[0m\u001b[0m\n",
      "\u001b[0;32m~/shared/src/time_harmonic_maxwell_problem.py\u001b[0m in \u001b[0;36msolve\u001b[0;34m(self, omega, accumulate, solver)\u001b[0m\n\u001b[1;32m    212\u001b[0m                 \u001b[0mLHS_im\u001b[0m \u001b[0;34m=\u001b[0m \u001b[0;34m-\u001b[0m \u001b[0;36m1j\u001b[0m \u001b[0;34m*\u001b[0m \u001b[0momg\u001b[0m \u001b[0;34m*\u001b[0m \u001b[0mself\u001b[0m\u001b[0;34m.\u001b[0m\u001b[0mget_I\u001b[0m\u001b[0;34m(\u001b[0m\u001b[0mtosparse\u001b[0m\u001b[0;34m=\u001b[0m\u001b[0;32mTrue\u001b[0m\u001b[0;34m)\u001b[0m\u001b[0;34m\u001b[0m\u001b[0;34m\u001b[0m\u001b[0m\n\u001b[1;32m    213\u001b[0m                 \u001b[0mRHS\u001b[0m \u001b[0;34m=\u001b[0m \u001b[0mself\u001b[0m\u001b[0;34m.\u001b[0m\u001b[0mget_N\u001b[0m\u001b[0;34m(\u001b[0m\u001b[0mtonumpy\u001b[0m\u001b[0;34m=\u001b[0m\u001b[0;32mTrue\u001b[0m\u001b[0;34m)\u001b[0m \u001b[0;34m+\u001b[0m \u001b[0mself\u001b[0m\u001b[0;34m.\u001b[0m\u001b[0mget_L\u001b[0m\u001b[0;34m(\u001b[0m\u001b[0mtonumpy\u001b[0m\u001b[0;34m=\u001b[0m\u001b[0;32mTrue\u001b[0m\u001b[0;34m)\u001b[0m\u001b[0;34m\u001b[0m\u001b[0;34m\u001b[0m\u001b[0m\n\u001b[0;32m--> 214\u001b[0;31m                 \u001b[0mself\u001b[0m\u001b[0;34m.\u001b[0m\u001b[0msolution\u001b[0m\u001b[0;34m[\u001b[0m\u001b[0mk\u001b[0m\u001b[0;34m:\u001b[0m\u001b[0mk\u001b[0m\u001b[0;34m+\u001b[0m\u001b[0mn\u001b[0m\u001b[0;34m]\u001b[0m \u001b[0;34m=\u001b[0m \u001b[0mscipy\u001b[0m\u001b[0;34m.\u001b[0m\u001b[0msparse\u001b[0m\u001b[0;34m.\u001b[0m\u001b[0mlinalg\u001b[0m\u001b[0;34m.\u001b[0m\u001b[0mspsolve\u001b[0m\u001b[0;34m(\u001b[0m\u001b[0mLHS_re\u001b[0m \u001b[0;34m+\u001b[0m \u001b[0mLHS_im\u001b[0m\u001b[0;34m,\u001b[0m \u001b[0mRHS\u001b[0m\u001b[0;34m.\u001b[0m\u001b[0mT\u001b[0m\u001b[0;34m)\u001b[0m\u001b[0;34m.\u001b[0m\u001b[0mT\u001b[0m\u001b[0;34m\u001b[0m\u001b[0;34m\u001b[0m\u001b[0m\n\u001b[0m\u001b[1;32m    215\u001b[0m                 \u001b[0mk\u001b[0m \u001b[0;34m+=\u001b[0m \u001b[0mn\u001b[0m\u001b[0;34m\u001b[0m\u001b[0;34m\u001b[0m\u001b[0m\n\u001b[1;32m    216\u001b[0m             \u001b[0;32melif\u001b[0m \u001b[0msolver\u001b[0m \u001b[0;34m==\u001b[0m \u001b[0;34m'fenics'\u001b[0m\u001b[0;34m:\u001b[0m\u001b[0;34m\u001b[0m\u001b[0;34m\u001b[0m\u001b[0m\n",
      "\u001b[0;32m/usr/lib/python3/dist-packages/scipy/sparse/linalg/dsolve/linsolve.py\u001b[0m in \u001b[0;36mspsolve\u001b[0;34m(A, b, permc_spec, use_umfpack)\u001b[0m\n\u001b[1;32m    157\u001b[0m             \u001b[0moptions\u001b[0m \u001b[0;34m=\u001b[0m \u001b[0mdict\u001b[0m\u001b[0;34m(\u001b[0m\u001b[0mColPerm\u001b[0m\u001b[0;34m=\u001b[0m\u001b[0mpermc_spec\u001b[0m\u001b[0;34m)\u001b[0m\u001b[0;34m\u001b[0m\u001b[0;34m\u001b[0m\u001b[0m\n\u001b[1;32m    158\u001b[0m             x, info = _superlu.gssv(N, A.nnz, A.data, A.indices, A.indptr,\n\u001b[0;32m--> 159\u001b[0;31m                                     b, flag, options=options)\n\u001b[0m\u001b[1;32m    160\u001b[0m             \u001b[0;32mif\u001b[0m \u001b[0minfo\u001b[0m \u001b[0;34m!=\u001b[0m \u001b[0;36m0\u001b[0m\u001b[0;34m:\u001b[0m\u001b[0;34m\u001b[0m\u001b[0;34m\u001b[0m\u001b[0m\n\u001b[1;32m    161\u001b[0m                 \u001b[0mwarn\u001b[0m\u001b[0;34m(\u001b[0m\u001b[0;34m\"Matrix is exactly singular\"\u001b[0m\u001b[0;34m,\u001b[0m \u001b[0mMatrixRankWarning\u001b[0m\u001b[0;34m)\u001b[0m\u001b[0;34m\u001b[0m\u001b[0;34m\u001b[0m\u001b[0m\n",
      "\u001b[0;31mKeyboardInterrupt\u001b[0m: "
     ]
    }
   ],
   "source": [
    "freq = 2*np.pi*CWF.get_frequency()\n",
    "\n",
    "F = CWF.get_L(tonumpy=True) + CWF.get_N(tonumpy=True)\n",
    "U_FEM = CWF.get_solution()\n",
    "\n",
    "CWF_L = CircularWaveguideFilter(mesh, B_N, g_N=g_N_L())\n",
    "CWF_L.setup()\n",
    "CWF_R = CircularWaveguideFilter(mesh, B_N, g_N=g_N_R())\n",
    "CWF_R.setup()\n",
    "U_MRI = get_interpolatory_solutions(freq, CWF_L, CWF_R, VS)\n",
    "\n",
    "S_FEM = compute_scattering_matrices(F, U_FEM, freq)\n",
    "S_MRI = compute_scattering_matrices(F, U_MRI, freq)\n",
    "\n",
    "S11_FEM, S21_FEM, S12_FEM, S22_FEM = get_scattering_coefficients(S_FEM)\n",
    "S11_MRI, S21_MRI, S12_MRI, S22_MRI = get_scattering_coefficients(S_MRI)"
   ]
  },
  {
   "cell_type": "code",
   "execution_count": null,
   "metadata": {},
   "outputs": [],
   "source": [
    "plt.plot(freq, S11_FEM)\n",
    "plt.plot(freq, S11_MRI)"
   ]
  },
  {
   "cell_type": "code",
   "execution_count": null,
   "metadata": {},
   "outputs": [],
   "source": [
    "plt.plot(freq, S21_FEM)\n",
    "plt.plot(freq, S21_MRI)"
   ]
  },
  {
   "cell_type": "code",
   "execution_count": null,
   "metadata": {},
   "outputs": [],
   "source": [
    "plt.plot(freq, S12_FEM)\n",
    "plt.plot(freq, S12_MRI)"
   ]
  },
  {
   "cell_type": "code",
   "execution_count": null,
   "metadata": {},
   "outputs": [],
   "source": [
    "plt.plot(freq, S22_FEM)\n",
    "plt.plot(freq, S22_MRI)"
   ]
  }
 ],
 "metadata": {
  "interpreter": {
   "hash": "550641dcc2a75f21b81887d3698c0825416855549d51b297fed11a34de4c4834"
  },
  "kernelspec": {
   "display_name": "Python 3",
   "language": "python",
   "name": "python3"
  },
  "language_info": {
   "codemirror_mode": {
    "name": "ipython",
    "version": 3
   },
   "file_extension": ".py",
   "mimetype": "text/x-python",
   "name": "python",
   "nbconvert_exporter": "python",
   "pygments_lexer": "ipython3",
   "version": "3.6.7"
  }
 },
 "nbformat": 4,
 "nbformat_minor": 2
}
