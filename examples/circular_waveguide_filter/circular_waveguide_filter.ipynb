{
 "cells": [
  {
   "cell_type": "markdown",
   "metadata": {},
   "source": [
    "# Circular waveguide filter - Discussion"
   ]
  },
  {
   "cell_type": "code",
   "execution_count": 1,
   "metadata": {},
   "outputs": [],
   "source": [
    "# Temporary 'hack' for working directory not coinciding with file directory\n",
    "import os\n",
    "os.chdir('/home/fenics/shared/examples/circular_waveguide_filter')\n",
    "\n",
    "%load_ext autoreload\n",
    "%autoreload 2"
   ]
  },
  {
   "cell_type": "code",
   "execution_count": 2,
   "metadata": {},
   "outputs": [],
   "source": [
    "import time\n",
    "import numpy as np\n",
    "import matplotlib.pyplot as plt\n",
    "\n",
    "import fenics as fen\n",
    "from circular_waveguide_filter import CircularWaveguideFilter\n",
    "\n",
    "from context import src\n",
    "from src.vector_space import VectorSpaceL2\n",
    "from src.minimal_rational_interpolation import MinimalRationalInterpolation\n",
    "import src.helpers as helpers"
   ]
  },
  {
   "cell_type": "markdown",
   "metadata": {},
   "source": [
    "### Dimensions and properties"
   ]
  },
  {
   "cell_type": "code",
   "execution_count": 3,
   "metadata": {},
   "outputs": [],
   "source": [
    "# Dimensions in meters\n",
    "Lc = 0.04387  # Length of the cavities\n",
    "Ls = 0.00150  # Length of the slots\n",
    "Lr = 0.02000  # Length of rectangular input/output WR75-waveguide\n",
    "Hr = 0.009525 # Height of rectangular input/output WR75-waveguide\n",
    "Wr = 0.01905  # Width of rectangular input/output WR75-waveguide\n",
    "\n",
    "Dx = Ls/2 + Lc + Ls + Lr  # |x|-coordinate of input/output boundary\n",
    "Dy = Wr/2  # |y|-limit of input/output boundary\n",
    "Dz = Hr/2  # |z|-limit of input/output boundary"
   ]
  },
  {
   "cell_type": "code",
   "execution_count": 4,
   "metadata": {
    "scrolled": true
   },
   "outputs": [],
   "source": [
    "class B_N(fen.SubDomain):\n",
    "    def inside(self, x, on_boundary):\n",
    "        return on_boundary and fen.near(abs(x[0]), Dx) and x[1]>-Dy and x[1]<Dy and x[2]>-Dz and x[2]<Dz\n",
    "\n",
    "class g_N_L(fen.UserExpression):\n",
    "    def eval(self, value, x):\n",
    "        value[0] = 0.0\n",
    "        value[1] = 0.0\n",
    "        value[2] = 1.0 / (4e-7*np.pi) if fen.near(x[0], -Dx) else 0.0\n",
    "    def value_shape(self):\n",
    "        return (3,)\n",
    "\n",
    "class g_N_R(fen.UserExpression):\n",
    "    def eval(self, value, x):\n",
    "        value[0] = 0.0\n",
    "        value[1] = 0.0\n",
    "        value[2] = - 1.0 / (4e-7*np.pi) if fen.near(x[0], Dx) else 0.0\n",
    "    def value_shape(self):\n",
    "        return (3,)\n",
    "\n",
    "mesh = os.getcwd() + '/model/DMCWF.xml'\n",
    "CWF = CircularWaveguideFilter(mesh, B_N, g_N=[g_N_L(), g_N_R()])\n",
    "VS = VectorSpaceL2(CWF)\n",
    "CWF.setup()"
   ]
  },
  {
   "cell_type": "markdown",
   "metadata": {},
   "source": [
    "### Solution of problem"
   ]
  },
  {
   "cell_type": "code",
   "execution_count": 5,
   "metadata": {},
   "outputs": [],
   "source": [
    "a = 2*np.pi*1.165e+10\n",
    "b = 2*np.pi*1.195e+10\n",
    "fig, ax = plt.subplots(figsize=(6, 4), sharex=True)\n",
    "omegas = np.linspace(a, b, 50)\n",
    "CWF.solve(omegas)\n",
    "CWF.save_solution('snapshots/linspace_1.165e+10_1.195e+10_50.obj')\n",
    "#CWF.load_solution('snapshots/linspace_4e10_8e10_300.obj')\n",
    "helpers.plot_solution_norms(ax, CWF, VS)"
   ]
  },
  {
   "cell_type": "code",
   "execution_count": 13,
   "metadata": {},
   "outputs": [
    {
     "data": {
      "image/png": "[encoded data removed]",
      "text/plain": [
       "<Figure size 432x288 with 1 Axes>"
      ]
     },
     "metadata": {
      "needs_background": "light"
     },
     "output_type": "display_data"
    }
   ],
   "source": [
    "a = 2*np.pi*1.165e+10\n",
    "b = 2*np.pi*1.195e+10\n",
    "fig, ax = plt.subplots(figsize=(6, 4), sharex=True)\n",
    "omegas = np.linspace(a, b, 20)\n",
    "CWF.solve(omegas)\n",
    "#CWF.save_solution('snapshots/linspace_4e10_8e10_300_RHS.obj')\n",
    "#CWF.load_solution( 'snapshots/linspace_4e10_8e10_300.obj')\n",
    "helpers.plot_solution_norms(ax, CWF, VS)"
   ]
  },
  {
   "cell_type": "markdown",
   "metadata": {},
   "source": [
    "#### Analyzing scattering coefficients"
   ]
  },
  {
   "cell_type": "code",
   "execution_count": 137,
   "metadata": {},
   "outputs": [],
   "source": [
    "def get_interpolatory_solutions(omega, CWF_L, CWF_R, VS):\n",
    "    omega_test = np.linspace(np.min(omega), np.max(omega), 1000)\n",
    "    MRI = MinimalRationalInterpolation(VS)\n",
    "    MRI.compute_surrogate(CWF_L, omegas=omega_test, greedy=True, tol=1e-2)\n",
    "    U_MRI_L = MRI.evaluate_surrogate(CWF_L.get_solution(), omega).T\n",
    "    MRI.compute_surrogate(CWF_R, omegas=omega_test, greedy=True, tol=1e-2)\n",
    "    U_MRI_R = MRI.evaluate_surrogate(CWF_R.get_solution(), omega).T\n",
    "    U_MRI = np.empty((len(omega), U_MRI_R.shape[1]), dtype=complex)\n",
    "    U_MRI[::2] = U_MRI_L\n",
    "    U_MRI[1::2] = U_MRI_R\n",
    "    return U_MRI"
   ]
  },
  {
   "cell_type": "code",
   "execution_count": 160,
   "metadata": {},
   "outputs": [],
   "source": [
    "def compute_scattering_matrices(F, U, freq, freq_c=6.56e+9, freq_0=1e+10):\n",
    "    N = len(freq) // 2\n",
    "    S = [np.empty((2, 2), dtype=complex)] * N\n",
    "    for n in range(N):\n",
    "        S[n][0, 0] = np.inner(F[0], U[2*n])\n",
    "        S[n][0, 1] = np.inner(F[1], U[2*n])\n",
    "        S[n][1, 0] = np.inner(F[0], U[2*n+1])\n",
    "        S[n][1, 1] = np.inner(F[1], U[2*n+1])\n",
    "        S[n] *= 1j*freq[n]*np.sqrt((1 - (freq_c/freq_0)**2) / (1 - (freq_c / freq[n])**2))\n",
    "        S[n] = np.eye(2) - 2 * np.linalg.inv(np.eye(2) + S[n])\n",
    "    return S"
   ]
  },
  {
   "cell_type": "code",
   "execution_count": 148,
   "metadata": {},
   "outputs": [],
   "source": [
    "def get_scattering_coefficients(S):\n",
    "    S11 = np.abs(S)[:, 0, 0]\n",
    "    S21 = np.abs(S)[:, 1, 0]\n",
    "    S12 = np.abs(S)[:, 0, 1]\n",
    "    S22 = np.abs(S)[:, 1, 1]\n",
    "    return S11, S21, S12, S22"
   ]
  },
  {
   "cell_type": "code",
   "execution_count": 113,
   "metadata": {},
   "outputs": [
    {
     "name": "stdout",
     "output_type": "stream",
     "text": [
      "[[ 0.19772499+0.j -0.25541933+0.j]\n",
      " [-0.25541933+0.j  0.21342341+0.j]]\n",
      "[[ 0.17053152+0.j  0.11170664+0.j]\n",
      " [ 0.11170664+0.j  0.18866669+0.j]]\n",
      "[[-0.31337956+0.j -0.04968029+0.j]\n",
      " [-0.04968029+0.j -0.33141560+0.j]]\n",
      "[[-0.08146185+0.j -0.01516348+0.j]\n",
      " [-0.01516348+0.j -0.08832015+0.j]]\n",
      "[[-0.00294998+0.j -0.00952216+0.j]\n",
      " [-0.00952216+0.j -0.00959610+0.j]]\n"
     ]
    }
   ],
   "source": [
    "freq = 2*np.pi*CWF.get_frequency()\n",
    "\n",
    "F = CWF.get_L(tonumpy=True) + CWF.get_N(tonumpy=True)\n",
    "U_FEM = CWF.get_solution()\n",
    "\n",
    "CWF_L = CircularWaveguideFilter(mesh, B_N, g_N=g_N_L())\n",
    "CWF_L.setup()\n",
    "CWF_R = CircularWaveguideFilter(mesh, B_N, g_N=g_N_R())\n",
    "CWF_R.setup()\n",
    "U_MRI = get_interpolatory_solutions(freq, CWF_L, CWF_R, VS)\n",
    "\n",
    "S_FEM = compute_scattering_matrices(F, U_FEM, freq)\n",
    "S_MRI = compute_scattering_matrices(F, U_MRI, freq)\n",
    "\n",
    "S11_FEM, S21_FEM, S12_FEM, S22_FEM = get_scattering_coefficients(S_FEM)\n",
    "S11_MRI, S21_MRI, S12_MRI, S22_MRI = get_scattering_coefficients(S_MRI)"
   ]
  },
  {
   "cell_type": "code",
   "execution_count": null,
   "metadata": {},
   "outputs": [],
   "source": [
    "plt.plot(freq, S11_FEM)\n",
    "plt.plot(freq, S11_MRI)"
   ]
  },
  {
   "cell_type": "code",
   "execution_count": null,
   "metadata": {},
   "outputs": [],
   "source": [
    "plt.plot(freq, S21_FEM)\n",
    "plt.plot(freq, S21_MRI)"
   ]
  },
  {
   "cell_type": "code",
   "execution_count": null,
   "metadata": {},
   "outputs": [],
   "source": [
    "plt.plot(freq, S12_FEM)\n",
    "plt.plot(freq, S12_MRI)"
   ]
  },
  {
   "cell_type": "code",
   "execution_count": null,
   "metadata": {},
   "outputs": [],
   "source": [
    "plt.plot(freq, S22_FEM)\n",
    "plt.plot(freq, S22_MRI)"
   ]
  }
 ],
 "metadata": {
  "interpreter": {
   "hash": "550641dcc2a75f21b81887d3698c0825416855549d51b297fed11a34de4c4834"
  },
  "kernelspec": {
   "display_name": "Python 3",
   "language": "python",
   "name": "python3"
  },
  "language_info": {
   "codemirror_mode": {
    "name": "ipython",
    "version": 3
   },
   "file_extension": ".py",
   "mimetype": "text/x-python",
   "name": "python",
   "nbconvert_exporter": "python",
   "pygments_lexer": "ipython3",
   "version": "3.6.7"
  }
 },
 "nbformat": 4,
 "nbformat_minor": 2
}
