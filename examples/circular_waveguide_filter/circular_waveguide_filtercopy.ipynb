{
 "cells": [
  {
   "cell_type": "markdown",
   "metadata": {},
   "source": [
    "# Circular waveguide filter - Discussion"
   ]
  },
  {
   "cell_type": "code",
   "execution_count": 64,
   "metadata": {},
   "outputs": [
    {
     "name": "stdout",
     "output_type": "stream",
     "text": [
      "The autoreload extension is already loaded. To reload it, use:\n",
      "  %reload_ext autoreload\n"
     ]
    }
   ],
   "source": [
    "# Temporary 'hack' for working directory not coinciding with file directory\n",
    "import os\n",
    "os.chdir('/home/fenics/shared/examples/circular_waveguide_filter')\n",
    "\n",
    "%load_ext autoreload\n",
    "%autoreload 2"
   ]
  },
  {
   "cell_type": "code",
   "execution_count": 65,
   "metadata": {},
   "outputs": [],
   "source": [
    "import time\n",
    "import numpy as np\n",
    "import matplotlib.pyplot as plt\n",
    "\n",
    "import fenics as fen\n",
    "from circular_waveguide_filter import CircularWaveguideFilter\n",
    "\n",
    "from context import src\n",
    "from src.vector_space import VectorSpaceL2\n",
    "from src.minimal_rational_interpolation import MinimalRationalInterpolation\n",
    "import src.helpers as helpers"
   ]
  },
  {
   "cell_type": "markdown",
   "metadata": {},
   "source": [
    "### Dimensions and properties"
   ]
  },
  {
   "cell_type": "code",
   "execution_count": 66,
   "metadata": {},
   "outputs": [],
   "source": [
    "# Dimensions in meters\n",
    "Lc = 0.04387  # Length of the cavities\n",
    "Ls = 0.00150  # Length of the slots\n",
    "Lr = 0.02000  # Length of rectangular input/output WR75-waveguide\n",
    "Hr = 0.009525 # Height of rectangular input/output WR75-waveguide\n",
    "Wr = 0.01905  # Width of rectangular input/output WR75-waveguide\n",
    "\n",
    "Dx = Ls/2 + Lc + Ls + Lr  # |x|-coordinate of input/output boundary\n",
    "Dy = Wr/2  # |y|-limit of input/output boundary\n",
    "Dz = Hr/2  # |z|-limit of input/output boundary"
   ]
  },
  {
   "cell_type": "code",
   "execution_count": 67,
   "metadata": {
    "scrolled": true
   },
   "outputs": [],
   "source": [
    "class B_N(fen.SubDomain):\n",
    "    def inside(self, x, on_boundary):\n",
    "        return on_boundary and fen.near(abs(x[0]), Dx) and x[1]>-Dy and x[1]<Dy and x[2]>-Dz and x[2]<Dz\n",
    "\n",
    "class g_N_L(fen.UserExpression):\n",
    "    def eval(self, value, x):\n",
    "        value[0] = 0.0\n",
    "        value[1] = 0.0\n",
    "        value[2] = 1.0 / (4e-7*np.pi) if fen.near(x[0], -Dx) else 0.0\n",
    "    def value_shape(self):\n",
    "        return (3,)\n",
    "\n",
    "class g_N_R(fen.UserExpression):\n",
    "    def eval(self, value, x):\n",
    "        value[0] = 0.0\n",
    "        value[1] = 0.0\n",
    "        value[2] = - 1.0 / (4e-7*np.pi) if fen.near(x[0], Dx) else 0.0\n",
    "    def value_shape(self):\n",
    "        return (3,)\n",
    "\n",
    "mesh = os.getcwd() + '/model/DMCWF_coarse.xml'\n",
    "CWF = CircularWaveguideFilter(mesh, B_N, g_N=[g_N_L(), g_N_R()])\n",
    "VS = VectorSpaceL2(CWF)\n",
    "CWF.setup()"
   ]
  },
  {
   "cell_type": "markdown",
   "metadata": {},
   "source": [
    "### Solution of problem"
   ]
  },
  {
   "cell_type": "code",
   "execution_count": 68,
   "metadata": {},
   "outputs": [
    {
     "name": "stderr",
     "output_type": "stream",
     "text": [
      "/usr/lib/python3/dist-packages/numpy/core/numeric.py:531: ComplexWarning: Casting complex values to real discards the imaginary part\n",
      "  return array(a, dtype, copy=False, order=order)\n"
     ]
    },
    {
     "data": {
      "image/png": "[encoded data removed]",
      "text/plain": [
       "<Figure size 432x288 with 1 Axes>"
      ]
     },
     "metadata": {
      "needs_background": "light"
     },
     "output_type": "display_data"
    }
   ],
   "source": [
    "a = 2*np.pi*9.5e+9\n",
    "b = 2*np.pi*11e+9\n",
    "fig, ax = plt.subplots(figsize=(6, 4), sharex=True)\n",
    "omegas = np.linspace(a, b, 100)\n",
    "CWF.solve(omegas, solver='fenics')\n",
    "CWF.save_solution('snapshots/linspace_9.5e+9_11e+9_100_coarse.obj')\n",
    "#CWF.load_solution('snapshots/linspace_1.165e+10_1.195e+10_100.obj')\n",
    "helpers.plot_solution_norms(ax, CWF, VS)"
   ]
  },
  {
   "cell_type": "markdown",
   "metadata": {},
   "source": [
    "#### Analyzing scattering coefficients"
   ]
  },
  {
   "cell_type": "code",
   "execution_count": 69,
   "metadata": {},
   "outputs": [],
   "source": [
    "def get_interpolatory_solutions(omega, CWF_L, CWF_R, VS):\n",
    "    omega_test = np.linspace(np.min(omega), np.max(omega), 1000)\n",
    "    MRI = MinimalRationalInterpolation(VS)\n",
    "    MRI.compute_surrogate(CWF_L, omegas=omega_test, greedy=True, tol=1e-2, solver='fenics')\n",
    "    U_MRI_L = MRI.evaluate_surrogate(CWF_L.get_solution(), omega).T\n",
    "    MRI.compute_surrogate(CWF_R, omegas=omega_test, greedy=True, tol=1e-2, solver='fenics')\n",
    "    U_MRI_R = MRI.evaluate_surrogate(CWF_R.get_solution(), omega).T\n",
    "    U_MRI = np.empty((2*len(omega), U_MRI_R.shape[1]), dtype=complex)\n",
    "    U_MRI[::2] = U_MRI_L\n",
    "    U_MRI[1::2] = U_MRI_R\n",
    "    return U_MRI"
   ]
  },
  {
   "cell_type": "code",
   "execution_count": 70,
   "metadata": {},
   "outputs": [],
   "source": [
    "def compute_scattering_matrices(F, U, freq, freq_c=6.56e+9, freq_0=1e+10):\n",
    "    N = len(freq) // 2\n",
    "    S = [np.empty((2, 2), dtype=complex)] * N\n",
    "    for n in range(N):\n",
    "        S[n][0, 0] = np.inner(F[0], U[2*n])\n",
    "        S[n][0, 1] = np.inner(F[1], U[2*n])\n",
    "        S[n][1, 0] = np.inner(F[0], U[2*n+1])\n",
    "        S[n][1, 1] = np.inner(F[1], U[2*n+1])\n",
    "        S[n] *= 1j*freq[n]*np.sqrt((1 - (freq_c/freq_0)**2) / (1 - (freq_c / freq[n])**2))\n",
    "        S[n] = np.eye(2) - 2 * np.linalg.inv(np.eye(2) + S[n])\n",
    "    return S"
   ]
  },
  {
   "cell_type": "code",
   "execution_count": 72,
   "metadata": {},
   "outputs": [],
   "source": [
    "def get_scattering_coefficients(S):\n",
    "    S11 = np.abs(S)[:, 0, 0]\n",
    "    S21 = np.abs(S)[:, 1, 0]\n",
    "    S12 = np.abs(S)[:, 0, 1]\n",
    "    S22 = np.abs(S)[:, 1, 1]\n",
    "    return S11, S21, S12, S22"
   ]
  },
  {
   "cell_type": "code",
   "execution_count": 73,
   "metadata": {},
   "outputs": [],
   "source": [
    "freq = CWF.get_frequency()\n",
    "\n",
    "F = CWF.get_L(tonumpy=True) + CWF.get_N(tonumpy=True)\n",
    "U_FEM = CWF.get_solution()\n",
    "\n",
    "CWF_L = CircularWaveguideFilter(mesh, B_N, g_N=g_N_L())\n",
    "CWF_L.setup()\n",
    "CWF_R = CircularWaveguideFilter(mesh, B_N, g_N=g_N_R())\n",
    "CWF_R.setup()\n",
    "U_MRI = get_interpolatory_solutions(freq[::2], CWF_L, CWF_R, VS)\n",
    "\n",
    "S_FEM = compute_scattering_matrices(F, U_FEM, freq)\n",
    "S_MRI = compute_scattering_matrices(F, U_MRI, freq)\n",
    "\n",
    "S11_FEM, S21_FEM, S12_FEM, S22_FEM = get_scattering_coefficients(S_FEM)\n",
    "S11_MRI, S21_MRI, S12_MRI, S22_MRI = get_scattering_coefficients(S_MRI)"
   ]
  },
  {
   "cell_type": "code",
   "execution_count": 74,
   "metadata": {},
   "outputs": [
    {
     "data": {
      "text/plain": [
       "[<matplotlib.lines.Line2D at 0x7f0e599328d0>]"
      ]
     },
     "execution_count": 74,
     "metadata": {},
     "output_type": "execute_result"
    },
    {
     "data": {
      "image/png": "[encoded data removed]",
      "text/plain": [
       "<Figure size 432x288 with 1 Axes>"
      ]
     },
     "metadata": {
      "needs_background": "light"
     },
     "output_type": "display_data"
    }
   ],
   "source": [
    "plt.plot(freq[::2], S11_FEM)\n",
    "plt.plot(freq[::2], S11_MRI)"
   ]
  },
  {
   "cell_type": "code",
   "execution_count": 75,
   "metadata": {},
   "outputs": [
    {
     "data": {
      "image/png": "[encoded data removed]",
      "text/plain": [
       "<Figure size 432x288 with 1 Axes>"
      ]
     },
     "metadata": {
      "needs_background": "light"
     },
     "output_type": "display_data"
    }
   ],
   "source": [
    "plt.plot(freq[::2], S21_FEM)\n",
    "plt.plot(freq[::2], S21_MRI)\n",
    "plt.yscale('log')"
   ]
  },
  {
   "cell_type": "code",
   "execution_count": 76,
   "metadata": {},
   "outputs": [
    {
     "data": {
      "image/png": "[encoded data removed]",
      "text/plain": [
       "<Figure size 432x288 with 1 Axes>"
      ]
     },
     "metadata": {
      "needs_background": "light"
     },
     "output_type": "display_data"
    }
   ],
   "source": [
    "plt.plot(freq[::2], S12_FEM)\n",
    "plt.plot(freq[::2], S12_MRI)\n",
    "plt.yscale('log') "
   ]
  },
  {
   "cell_type": "code",
   "execution_count": 77,
   "metadata": {},
   "outputs": [
    {
     "data": {
      "text/plain": [
       "[<matplotlib.lines.Line2D at 0x7f0ee89ea390>]"
      ]
     },
     "execution_count": 77,
     "metadata": {},
     "output_type": "execute_result"
    },
    {
     "data": {
      "image/png": "[encoded data removed]",
      "text/plain": [
       "<Figure size 432x288 with 1 Axes>"
      ]
     },
     "metadata": {
      "needs_background": "light"
     },
     "output_type": "display_data"
    }
   ],
   "source": [
    "plt.plot(freq[::2], S22_FEM)\n",
    "plt.plot(freq[::2], S22_MRI)"
   ]
  }
 ],
 "metadata": {
  "interpreter": {
   "hash": "550641dcc2a75f21b81887d3698c0825416855549d51b297fed11a34de4c4834"
  },
  "kernelspec": {
   "display_name": "Python 3",
   "language": "python",
   "name": "python3"
  },
  "language_info": {
   "codemirror_mode": {
    "name": "ipython",
    "version": 3
   },
   "file_extension": ".py",
   "mimetype": "text/x-python",
   "name": "python",
   "nbconvert_exporter": "python",
   "pygments_lexer": "ipython3",
   "version": "3.6.7"
  }
 },
 "nbformat": 4,
 "nbformat_minor": 2
}
