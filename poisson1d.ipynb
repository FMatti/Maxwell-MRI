{
 "cells": [
  {
   "cell_type": "markdown",
   "metadata": {},
   "source": [
    "## Finite element method - One dimensional Poisson equation\n",
    "\n",
    "(Initially inspired by https://en.wikipedia.org/wiki/Finite_element_method)"
   ]
  },
  {
   "cell_type": "markdown",
   "metadata": {},
   "source": [
    "### Mathematical formulation\n",
    "\n",
    "The one dimensional Poisson equation is stated as a boundary value problem\n",
    "\n",
    "$$ -\\phi''(x) = f(x), ~\\text{for}~ x \\in [a, b] $$\n",
    "$$ \\phi(x = a) = \\phi_a $$\n",
    "$$ \\phi(x = b) = \\phi_b $$ \n",
    "\n",
    "Integrating both sides with a test function $v(x)$ that satisfies $v(a) = v(b) = 0$, we obtain, using partial integration, the weak formulation of the problem\n",
    "\n",
    "$$ \\int_a^b \\phi'(x) v'(x) dx = \\int_a^b f(x) v(x) dx $$\n",
    "\n",
    "By restricting ourselves to test functions $v(x)$ that are piecewise linear on $[a, b]$ with $M$ nodes $x_i = a + h*(b - a)$, $h = (b - a)/M$, namely\n",
    "\n",
    "$$ v_i(x) = \\frac{x - x_{i-1}}{x_{i} - x_{i-1}} \\mathbb{1}_{\\{x \\in [x_{i-1}, x_{i}]\\}} + \\frac{x_{i+1} - x}{x_{i+1} - x_i} \\mathbb{1}_{\\{x \\in [x_i, x_{i+1}]\\}} $$\n",
    "\n",
    "and by expanding $f(x)$ and $\\phi'(x)$ in this basis as\n",
    "\n",
    "$$ f(x) = \\sum_{i=0}^M f(x_i) v_i(x) $$\n",
    "$$ \\phi'(x) = \\sum_{i=0}^M \\phi(x_i) v_i'(x) $$\n",
    "\n",
    "we are left with calculating the following matrix equation:\n",
    "\n",
    "$$ \\mathbf{L} \\phi = \\mathbf{K} f $$\n",
    "\n",
    "with \n",
    "\n",
    "$$ \\mathbf{L}_{ij} = \\int_a^b v_i'(x) v_j'(x) dx $$\n",
    "$$ \\mathbf{K}_{ij} = \\int_a^b v_i(x) v_j(x) dx $$\n",
    "\n",
    "These integrals can be calculated analytically. For details of the calculation, see \"notes\". They evaluate to\n",
    "\n",
    "$$ \\int_a^b v_i(x) v_j(x) dx = \\begin{cases} 0 & |i - j| > 1 \\\\ \\frac{h}{6} & |i - j| = 1 \\\\ \\frac{2h}{3} & i = j \\end{cases} $$\n",
    "\n",
    "and\n",
    "\n",
    "$$ \\int_a^b v_i'(x) v_j'(x) dx = \\begin{cases} 0 & |i - j| > 1 \\\\ \\frac{1}{h} & |i - j| = 1 \\\\ \\frac{2}{h} & i = j \\end{cases} $$"
   ]
  },
  {
   "cell_type": "markdown",
   "metadata": {},
   "source": [
    "### Simple example\n",
    "\n",
    "Validating the special case in $x \\in [0, 1]$ with\n",
    "\n",
    "$$ u(x) = 1 - \\frac{x^2}{2} $$\n",
    "\n",
    "such that we would have\n",
    "\n",
    "$$ f(x) = 1 $$\n",
    "\n",
    "(Method proposed in Chapter 2.3 in Langtangen, Logg: Solving PDEs in Python - The FEniCS Tutorial I"
   ]
  },
  {
   "cell_type": "code",
   "execution_count": 9,
   "metadata": {},
   "outputs": [],
   "source": [
    "import numpy as np\n",
    "import matplotlib.pyplot as plt"
   ]
  },
  {
   "cell_type": "markdown",
   "metadata": {},
   "source": [
    "Definitions"
   ]
  },
  {
   "cell_type": "code",
   "execution_count": 10,
   "metadata": {},
   "outputs": [],
   "source": [
    "a = 0\n",
    "b = 1\n",
    "M = 100\n",
    "h = (b - a) / M"
   ]
  },
  {
   "cell_type": "markdown",
   "metadata": {},
   "source": [
    "Defining the matrices $\\mathbf{L}$ and $\\mathbf{K}$."
   ]
  },
  {
   "cell_type": "code",
   "execution_count": 11,
   "metadata": {},
   "outputs": [],
   "source": [
    "L = np.zeros((M, M))\n",
    "K = np.zeros((M, M))\n",
    "for m in range(1,M-1):\n",
    "    for n in range(M):\n",
    "        if n == m:\n",
    "            L[m, n] = 2/h\n",
    "            K[m, n] = 2*h/3\n",
    "        if abs(n - m) == 1:\n",
    "            L[m, n] = -1/h\n",
    "            K[m, n] = h/6"
   ]
  },
  {
   "cell_type": "markdown",
   "metadata": {},
   "source": [
    "Enforcing the boundary conditions"
   ]
  },
  {
   "cell_type": "code",
   "execution_count": 12,
   "metadata": {},
   "outputs": [],
   "source": [
    "L[0, 0] = 1\n",
    "L[M-1, M-1] = 1\n",
    "K[0, 0] = 1  # u(0) = 1\n",
    "K[M-1, M-1] = 0.5  # u(1) = 0.5"
   ]
  },
  {
   "cell_type": "markdown",
   "metadata": {},
   "source": [
    "Checking if the finite element solution indeed approximates the exactly constructed solution"
   ]
  },
  {
   "cell_type": "code",
   "execution_count": 13,
   "metadata": {},
   "outputs": [
    {
     "data": {
      "text/plain": [
       "[<matplotlib.lines.Line2D at 0x7fda68f09e10>]"
      ]
     },
     "execution_count": 13,
     "metadata": {},
     "output_type": "execute_result"
    },
    {
     "data": {
      "image/png": "[encoded data removed]",
      "text/plain": [
       "<Figure size 432x288 with 1 Axes>"
      ]
     },
     "metadata": {
      "needs_background": "light"
     },
     "output_type": "display_data"
    }
   ],
   "source": [
    "X = np.linspace(a, b, M)\n",
    "f = np.ones(M)\n",
    "phi = np.linalg.solve(L, np.dot(K, f))\n",
    "plt.plot(X, phi)\n",
    "plt.plot(X, 1 - X**2 / 2)"
   ]
  },
  {
   "cell_type": "code",
   "execution_count": null,
   "metadata": {},
   "outputs": [],
   "source": []
  }
 ],
 "metadata": {
  "interpreter": {
   "hash": "fb487646d2ff43bdda56d3757f53914077f9958e378e2f12b27b72e0e80564a5"
  },
  "kernelspec": {
   "display_name": "Python 3",
   "language": "python",
   "name": "python3"
  },
  "language_info": {
   "codemirror_mode": {
    "name": "ipython",
    "version": 3
   },
   "file_extension": ".py",
   "mimetype": "text/x-python",
   "name": "python",
   "nbconvert_exporter": "python",
   "pygments_lexer": "ipython3",
   "version": "3.6.7"
  }
 },
 "nbformat": 4,
 "nbformat_minor": 2
}
