{
 "cells": [
  {
   "cell_type": "markdown",
   "metadata": {},
   "source": [
    "## [In progress...] FEM for two-dimensional Poisson equation"
   ]
  },
  {
   "cell_type": "markdown",
   "metadata": {},
   "source": [
    "### Problem formulation\n",
    "(Initially follows Langtangen, Logg: Solving PDEs in Python - The FEniCS Tutorial I)\n",
    "\n",
    "Our goal is to solve the Poisson equation\n",
    "$$ - \\Delta \\phi(x, y) = f(x, y), (x, y) \\in \\Omega $$\n",
    "for some boundary condition\n",
    "$$ \\phi(x, y) = \\phi_0(x, y), \\forall (x, y) \\in \\partial \\Omega $$"
   ]
  },
  {
   "cell_type": "markdown",
   "metadata": {},
   "source": [
    "### Weak formulation of the problem\n",
    "When multiplying a test function $v(x, y)$ (which is differentiable in both arguments, and vanishes on $\\partial \\Omega$) to both sides of the Poisson equation, and subsequently integrating over all of $\\Omega$, we can apply Gauss' theorem to obtain the following equation:\n",
    "$$ \\int_{\\Omega} \\nabla \\phi(x, y) \\nabla v(x, y) dx dy = \\int_{\\Omega} f(x, y) v(x, y) dx dy"
   ]
  },
  {
   "cell_type": "markdown",
   "metadata": {},
   "source": [
    "### Interpolation in two dimensions\n",
    "To interpolate a function $f(x, y)$ with piecewise linear functions in two dimensions, we need to triangulate the domain $\\Omega$ using triangles that each connect three nodes $\\{(x_i, y_i)\\}_{i=1}^M$. One such triangle, which connects nodes $\\{(x_i, y_i)\\}_{i \\in I}$, where $I$ is a set of three distinct indices, is fully described by the function\n",
    "$$ p(x, y) = ax + by + c $$\n",
    "that must satisfy $p(x_i, y_i) = f(x_i, y_i), \\forall i \\in I$. In other words, we can determine this function (or much rather the coefficients $a, b, c$) by solving the following linear system of equations:\n",
    "$$ \\begin{bmatrix} x_{I_1} & y_{I_1} & 1 \\\\ x_{I_2} & y_{I_2} & 1 \\\\ x_{I_3} & y_{I_3} & 1 \\end{bmatrix}\n",
    "   \\begin{bmatrix} a \\\\ b \\\\ c \\end{bmatrix} \n",
    "   = \\begin{bmatrix} f(x_{I_1}, y_{I_1}) \\\\ f(x_{I_2}, y_{I_2}) \\\\ f(x_{I_3}, y_{I_3}) \\end{bmatrix} $$\n",
    "Therefore, we summarize that the interpolating triangle is given by\n",
    "$$ p(x, y) = \\left( \\begin{bmatrix} x_{I_1} & y_{I_1} & 1 \\\\ x_{I_2} & y_{I_2} & 1 \\\\ x_{I_3} & y_{I_3} & 1 \\end{bmatrix}^{-1}\n",
    "             \\begin{bmatrix} f(x_{I_1}, y_{I_1}) \\\\ f(x_{I_2}, y_{I_2}) \\\\ f(x_{I_3}, y_{I_3}) \\end{bmatrix} \\right)^T\n",
    "             \\begin{bmatrix} x \\\\ y \\\\ 1 \\end{bmatrix} $$\n",
    "To confirm this, I will quickly verify it using a simple example:"
   ]
  },
  {
   "cell_type": "code",
   "execution_count": 8,
   "metadata": {},
   "outputs": [],
   "source": [
    "import numpy as np\n",
    "import matplotlib.pyplot as plt"
   ]
  },
  {
   "cell_type": "code",
   "execution_count": 9,
   "metadata": {},
   "outputs": [
    {
     "data": {
      "text/plain": [
       "<matplotlib.image.AxesImage at 0x7f4ba822f278>"
      ]
     },
     "execution_count": 9,
     "metadata": {},
     "output_type": "execute_result"
    },
    {
     "data": {
      "image/png": "[encoded data removed]",
      "text/plain": [
       "<Figure size 288x288 with 1 Axes>"
      ]
     },
     "metadata": {
      "needs_background": "light"
     },
     "output_type": "display_data"
    }
   ],
   "source": [
    "f = lambda x, y: np.exp( - x**2 - y**2)\n",
    "f_grid = np.array(np.frompyfunc(f, 2, 1).outer(np.linspace(0, 1, 100), np.linspace(0, 1, 100)), dtype=float)\n",
    "plt.matshow(f_grid)"
   ]
  },
  {
   "cell_type": "code",
   "execution_count": 10,
   "metadata": {},
   "outputs": [],
   "source": [
    "def p(x, y, x_nodes, y_nodes, f_nodes):\n",
    "    A = np.array([x_nodes, y_nodes, np.ones(len(x_nodes))]).T\n",
    "    b = np.array(f_nodes).T\n",
    "    coeff = np.linalg.solve(A, b)\n",
    "    return np.dot(coeff, [x, y, 1])"
   ]
  },
  {
   "cell_type": "code",
   "execution_count": 11,
   "metadata": {},
   "outputs": [
    {
     "name": "stdout",
     "output_type": "stream",
     "text": [
      "[1.0, 0.36787944117144233, 0.36787944117144233]\n",
      "[1.0, 0.36787944117144233, 0.36787944117144233]\n"
     ]
    },
    {
     "data": {
      "image/png": "[encoded data removed]",
      "text/plain": [
       "<Figure size 288x288 with 1 Axes>"
      ]
     },
     "metadata": {
      "needs_background": "light"
     },
     "output_type": "display_data"
    }
   ],
   "source": [
    "x_nodes = [0, 1, 0]\n",
    "y_nodes = [0, 0, 1]\n",
    "f_nodes = list(map(f, x_nodes, y_nodes))\n",
    "p_xy = lambda x, y: p(x, y, x_nodes, y_nodes, f_nodes)\n",
    "f_tri = np.array(np.frompyfunc(p_xy, 2, 1).outer(np.linspace(0, 1, 100), np.linspace(0, 1, 100)), dtype=float)\n",
    "plt.matshow(f_tri)\n",
    "p_nodes = list(map(p_xy, x_nodes, y_nodes))\n",
    "print(f_nodes)\n",
    "print(p_nodes)"
   ]
  },
  {
   "cell_type": "markdown",
   "metadata": {},
   "source": [
    "### Lagrange interpolation in two dimensions\n",
    "$$ \\varphi_{ij}(x, y) = \\prod_{k \\neq i, n \\neq j} \\frac{x-x_k}{x_i-x_k} \\frac{y-y_n}{y_j-y_n} $$\n",
    "$$ \\Pi_{kn} f(x, y) = \\sum_k \\sum_n f(x_k, y_n) \\varphi_{kn}(x, y) $$"
   ]
  },
  {
   "cell_type": "markdown",
   "metadata": {},
   "source": [
    "We now need to discretize our domain into a mesh. Let's consider a square:"
   ]
  },
  {
   "cell_type": "code",
   "execution_count": 12,
   "metadata": {},
   "outputs": [
    {
     "data": {
      "text/plain": [
       "<matplotlib.collections.PathCollection at 0x7f4ba81dd278>"
      ]
     },
     "execution_count": 12,
     "metadata": {},
     "output_type": "execute_result"
    },
    {
     "data": {
      "image/png": "[encoded data removed]",
      "text/plain": [
       "<Figure size 432x288 with 1 Axes>"
      ]
     },
     "metadata": {
      "needs_background": "light"
     },
     "output_type": "display_data"
    }
   ],
   "source": [
    "X, Y = np.meshgrid(np.linspace(0, 1, 5), np.linspace(0, 1, 5))\n",
    "X_nodes, Y_nodes = X.ravel(), Y.ravel()\n",
    "plt.scatter(X_nodes, Y_nodes)"
   ]
  },
  {
   "cell_type": "code",
   "execution_count": null,
   "metadata": {},
   "outputs": [],
   "source": []
  }
 ],
 "metadata": {
  "interpreter": {
   "hash": "fb487646d2ff43bdda56d3757f53914077f9958e378e2f12b27b72e0e80564a5"
  },
  "kernelspec": {
   "display_name": "Python 3",
   "language": "python",
   "name": "python3"
  },
  "language_info": {
   "codemirror_mode": {
    "name": "ipython",
    "version": 3
   },
   "file_extension": ".py",
   "mimetype": "text/x-python",
   "name": "python",
   "nbconvert_exporter": "python",
   "pygments_lexer": "ipython3",
   "version": "3.6.7"
  }
 },
 "nbformat": 4,
 "nbformat_minor": 2
}
