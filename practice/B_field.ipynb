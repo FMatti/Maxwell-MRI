{
 "cells": [
  {
   "cell_type": "markdown",
   "metadata": {},
   "source": [
    "## Time-harmonic Maxwell's equations (B-field formulation)"
   ]
  },
  {
   "cell_type": "markdown",
   "metadata": {},
   "source": [
    "### Weak form of the problem\n",
    "From the derivation demonstrated in the notes, we know the weak form of the problem is given by\n",
    "\n",
    "$$\n",
    "\\int_{\\Omega} (\\epsilon^{-1} \\nabla \\times (\\mu^{-1} \\mathbf{B})) \\cdot (\\nabla \\times \\mathbf{v})\n",
    "    - \\omega^2 \\int_{\\Omega} \\mathbf{B} \\cdot \\mathbf{v}\n",
    "    = \\int_{\\Omega} (\\epsilon^{-1} \\mathbf{j}) \\cdot (\\nabla \\times \\mathbf{v})\n",
    "$$\n",
    "\n",
    "for all $\\mathbf{v} \\in H_{\\text{curl}}(\\Omega)$ with boundary condition \n",
    "\n",
    "$$ \\mathbf{v} \\times \\mathbf{n} = 0, ~\\text{on}~\\partial \\Omega $$\n",
    "\n",
    "with the normal vector $\\mathbf{n}$ to $\\partial \\Omega$."
   ]
  },
  {
   "cell_type": "code",
   "execution_count": 5,
   "metadata": {},
   "outputs": [],
   "source": [
    "from fenics import *\n",
    "from mshr import *\n",
    "%matplotlib inline"
   ]
  },
  {
   "cell_type": "code",
   "execution_count": 15,
   "metadata": {},
   "outputs": [],
   "source": [
    "D = 10.0 # radius of domain\n",
    "R = 1 # radius of torus\n",
    "r = 0.1 # tube-radius of torus\n",
    "\n",
    "# Set the domain\n",
    "domain = Sphere(Point(0, 0), D)"
   ]
  },
  {
   "cell_type": "code",
   "execution_count": 16,
   "metadata": {},
   "outputs": [],
   "source": [
    "# Generating the mesh\n",
    "mesh = generate_mesh(domain, 32)\n",
    "\n",
    "# Define function space\n",
    "V = FunctionSpace(mesh, 'N1curl', 1)\n",
    "\n",
    "# Define integration measure\n",
    "dx = Measure('dx', domain=mesh)\n",
    "\n",
    "# Visuazlizing the mesh\n",
    "#mesh"
   ]
  },
  {
   "cell_type": "markdown",
   "metadata": {},
   "source": [
    "### Magnetic field strength (finite element solution)\n",
    "Here, a toroidal current inside a sphere is assumed."
   ]
  },
  {
   "cell_type": "code",
   "execution_count": 28,
   "metadata": {},
   "outputs": [],
   "source": [
    "# Current along the torus\n",
    "class current(UserExpression):\n",
    "    def __init__(self, **kwargs):\n",
    "        super().__init__(**kwargs)\n",
    "    def eval(self, value, x):\n",
    "        value[2] = 0.0\n",
    "        if pow((pow(x[0]**2 + x[1]**2, 0.5) - R)**2 + x[2]**2, 0.5) < r:\n",
    "            value[0] = -x[1]\n",
    "            value[1] = x[0]\n",
    "        else:\n",
    "            value[0] = 0.0\n",
    "            value[1] = 0.0\n",
    "    def value_shape(self):\n",
    "        return (3,)\n",
    "\n",
    "J = current(degree=2)\n",
    "\n",
    "# Magnetic permeability for the configuration\n",
    "class permeability(UserExpression):\n",
    "    def __init__(self, **kwargs):\n",
    "        super().__init__(**kwargs)\n",
    "    def eval(self, value, x):\n",
    "        if pow((pow(x[0]**2 + x[1]**2, 0.5) - R)**2 + x[2]**2, 0.5) < r:\n",
    "            value[0] = 1.26e-6 # copper\n",
    "        else:\n",
    "            value[0] = 4*pi*1e-7 # vacuum\n",
    "    def value_shape(self):\n",
    "        return ()\n",
    "\n",
    "mu = permeability(degree=2)"
   ]
  },
  {
   "cell_type": "code",
   "execution_count": 34,
   "metadata": {},
   "outputs": [
    {
     "name": "stdout",
     "output_type": "stream",
     "text": [
      "    Calling FFC just-in-time (JIT) compiler, this may take some time.\n",
      "    Calling FFC just-in-time (JIT) compiler, this may take some time.\n"
     ]
    },
    {
     "data": {
      "text/plain": [
       "<mpl_toolkits.mplot3d.art3d.Line3DCollection at 0x7f1ed7436ac8>"
      ]
     },
     "execution_count": 34,
     "metadata": {},
     "output_type": "execute_result"
    },
    {
     "data": {
      "image/png": "[encoded data removed]",
      "text/plain": [
       "<Figure size 432x288 with 1 Axes>"
      ]
     },
     "metadata": {
      "needs_background": "light"
     },
     "output_type": "display_data"
    }
   ],
   "source": [
    "# Define boundary condition\n",
    "bc = DirichletBC(V, Expression(('0.0', '0.0', '0.0'), degree=2), 'on_boundary')\n",
    "\n",
    "# Define variational problem\n",
    "B = TrialFunction(V)\n",
    "v = TestFunction(V)\n",
    "\n",
    "# Define stiffness and mass matrix\n",
    "eps = 8.8e-12\n",
    "a_stiff = (1 / (eps*mu))*dot(curl(B), curl(v))*dx\n",
    "a_mass = dot(B, v)*dx\n",
    "omega = 1000\n",
    "a = a_stiff - (omega**2)*a_mass\n",
    "L = (1 / eps)*dot(J, curl(v))*dx\n",
    "\n",
    "# Solve variational problem\n",
    "B = Function(V)\n",
    "solve(a == L, B, bc)\n",
    "\n",
    "plot(B)"
   ]
  },
  {
   "cell_type": "code",
   "execution_count": null,
   "metadata": {},
   "outputs": [],
   "source": []
  }
 ],
 "metadata": {
  "kernelspec": {
   "display_name": "Python 3",
   "language": "python",
   "name": "python3"
  },
  "language_info": {
   "codemirror_mode": {
    "name": "ipython",
    "version": 3
   },
   "file_extension": ".py",
   "mimetype": "text/x-python",
   "name": "python",
   "nbconvert_exporter": "python",
   "pygments_lexer": "ipython3",
   "version": "3.6.7"
  }
 },
 "nbformat": 4,
 "nbformat_minor": 2
}
