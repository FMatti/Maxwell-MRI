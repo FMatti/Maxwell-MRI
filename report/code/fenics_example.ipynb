{
 "cells": [
  {
   "cell_type": "code",
   "execution_count": 2,
   "metadata": {},
   "outputs": [
    {
     "ename": "FileNotFoundError",
     "evalue": "[Errno 2] No such file or directory: '../plots/fenics_demonstration.pkl'",
     "output_type": "error",
     "traceback": [
      "\u001b[0;31m---------------------------------------------------------------------------\u001b[0m",
      "\u001b[0;31mFileNotFoundError\u001b[0m                         Traceback (most recent call last)",
      "\u001b[0;32m<ipython-input-2-d9cfb2f74c2c>\u001b[0m in \u001b[0;36m<module>\u001b[0;34m\u001b[0m\n\u001b[1;32m     63\u001b[0m \u001b[0;34m\u001b[0m\u001b[0m\n\u001b[1;32m     64\u001b[0m \u001b[0;32mimport\u001b[0m \u001b[0mpickle\u001b[0m\u001b[0;34m\u001b[0m\u001b[0;34m\u001b[0m\u001b[0m\n\u001b[0;32m---> 65\u001b[0;31m \u001b[0;32mwith\u001b[0m \u001b[0mopen\u001b[0m\u001b[0;34m(\u001b[0m\u001b[0;34m'../plots/fenics_demonstration.pkl'\u001b[0m\u001b[0;34m,\u001b[0m \u001b[0;34m'wb'\u001b[0m\u001b[0;34m)\u001b[0m \u001b[0;32mas\u001b[0m \u001b[0mf\u001b[0m\u001b[0;34m:\u001b[0m\u001b[0;34m\u001b[0m\u001b[0;34m\u001b[0m\u001b[0m\n\u001b[0m\u001b[1;32m     66\u001b[0m     \u001b[0mpickle\u001b[0m\u001b[0;34m.\u001b[0m\u001b[0mdump\u001b[0m\u001b[0;34m(\u001b[0m\u001b[0;34m[\u001b[0m\u001b[0momegas\u001b[0m\u001b[0;34m,\u001b[0m \u001b[0mnorms\u001b[0m\u001b[0;34m]\u001b[0m\u001b[0;34m,\u001b[0m \u001b[0mf\u001b[0m\u001b[0;34m)\u001b[0m\u001b[0;34m\u001b[0m\u001b[0;34m\u001b[0m\u001b[0m\n",
      "\u001b[0;31mFileNotFoundError\u001b[0m: [Errno 2] No such file or directory: '../plots/fenics_demonstration.pkl'"
     ]
    }
   ],
   "source": [
    "import numpy as np\n",
    "import fenics as fen\n",
    "import matplotlib.pyplot as plt\n",
    "\n",
    "# Get a unit cube mesh\n",
    "nx, ny, nz = 10, 10, 10\n",
    "mesh = fen.UnitCubeMesh(nx, ny, nz)\n",
    "\n",
    "# Function space using Nedelec elements of the first kind\n",
    "V = fen.FunctionSpace(mesh, 'N1curl', 1)\n",
    "\n",
    "# Define inlet subdomain\n",
    "class Inlet(fen.SubDomain):\n",
    "    def inside(self, x, on_boundary):\n",
    "        return on_boundary and fen.near(x[0], 0)\n",
    "\n",
    "# Define perfectly electrically conducting wall subdomain\n",
    "class PECWalls(fen.SubDomain):\n",
    "    def inside(self, x, on_boundary):\n",
    "        return on_boundary and not Inlet().inside(x, on_boundary)\n",
    "\n",
    "# Identify each boundary type with an id\n",
    "boundary_id = fen.MeshFunction('size_t', mesh, mesh.topology().dim()-1)\n",
    "boundary_id.set_all(0)\n",
    "Inlet().mark(boundary_id, 1)\n",
    "PECWalls().mark(boundary_id, 2)\n",
    "\n",
    "# Dirichlet boundary condition\n",
    "u_D = fen.Expression(('0.0', '0.0', '0.0'), degree=2)\n",
    "bc = fen.DirichletBC(V, u_D, boundary_id, 2)\n",
    "\n",
    "# Neumann boundary integral term and boundary measure\n",
    "g_N = fen.Expression(('0.0', '0.0', '1.0'), degree=2)\n",
    "ds = fen.Measure('ds', subdomain_data=boundary_id)\n",
    "\n",
    "# Trial and test functions\n",
    "u = fen.TrialFunction(V)\n",
    "v = fen.TestFunction(V)\n",
    "\n",
    "# Neumann boundary integral term\n",
    "N = fen.assemble(fen.dot(g_N, v) * ds(2))\n",
    "\n",
    "# Stiffness matrix\n",
    "K = fen.assemble(fen.dot(fen.curl(u), fen.curl(v)) * fen.dx)\n",
    "bc.apply(K)\n",
    "\n",
    "# Mass matrix\n",
    "M = fen.assemble(fen.dot(u, v) * fen.dx)\n",
    "bc.zero(M)\n",
    "\n",
    "# L2-norm function\n",
    "def L2_norm(u):\n",
    "    u_vec = u.vector().get_local()\n",
    "    return pow(((M * u_vec) * u_vec).sum(), 0.5)\n",
    "\n",
    "# Solution at a certain frequency\n",
    "omegas = np.linspace(6.2, 6.8, 200)\n",
    "norms = []\n",
    "u = fen.Function(V)\n",
    "for omega in omegas:\n",
    "    fen.solve(K - omega**2 * M, u.vector(), N)\n",
    "    norms.append(L2_norm(u))"
   ]
  },
  {
   "cell_type": "code",
   "execution_count": 3,
   "metadata": {},
   "outputs": [],
   "source": [
    "import os\n",
    "os.chdir('/home/fenics/shared/report/code')\n",
    "\n",
    "import pickle\n",
    "with open('../plots/fenics_demonstration.pkl', 'wb') as f:\n",
    "    pickle.dump([omegas, norms], f) "
   ]
  }
 ],
 "metadata": {
  "kernelspec": {
   "display_name": "Python 3",
   "language": "python",
   "name": "python3"
  },
  "language_info": {
   "codemirror_mode": {
    "name": "ipython",
    "version": 3
   },
   "file_extension": ".py",
   "mimetype": "text/x-python",
   "name": "python",
   "nbconvert_exporter": "python",
   "pygments_lexer": "ipython3",
   "version": "3.6.7"
  },
  "orig_nbformat": 4
 },
 "nbformat": 4,
 "nbformat_minor": 2
}
