{
 "cells": [
  {
   "cell_type": "code",
   "execution_count": null,
   "metadata": {},
   "outputs": [],
   "source": [
    "import pickle\n",
    "import numpy as np\n",
    "import matplotlib.pyplot as plt\n",
    "import matplotlib.cm\n",
    "\n",
    "cm = matplotlib.cm.get_cmap('inferno')\n",
    "plt.rcParams.update({\n",
    "    'text.usetex': True,\n",
    "    'font.family': 'serif',\n",
    "    'font.serif': 'Palatino',\n",
    "    'font.size': 11})"
   ]
  },
  {
   "cell_type": "code",
   "execution_count": null,
   "metadata": {},
   "outputs": [],
   "source": [
    "def plot_solution(ax, coords, solution, **kwargs):\n",
    "    ax.margins(x=0, y=0)\n",
    "    return ax.tripcolor(coords[:, 0], coords[:, 1], solution, shading='gouraud', **kwargs)"
   ]
  },
  {
   "cell_type": "code",
   "execution_count": null,
   "metadata": {},
   "outputs": [],
   "source": [
    "with open('rectangular_cavity_mode1.pkl', 'rb') as f:\n",
    "    solution1, coords1, omega1 = pickle.load(f) \n",
    "\n",
    "fig, ax = plt.subplots(1, 1, figsize=(5.55, 1.2), sharex=True, sharey=True)\n",
    "plot = plot_solution(ax, coords1, np.real(solution1[0]), cmap=cm)\n",
    "ax.set_xlabel(r'$x$')\n",
    "ax.set_ylabel(r'$y$')\n",
    "plt.colorbar(plot, orientation='vertical', aspect=10, pad=0.03)\n",
    "plt.savefig('rectangular_cavity_mode1.pdf', bbox_inches='tight')\n",
    "print(omega1)\n",
    "\n",
    "with open('rectangular_cavity_mode5.pkl', 'rb') as f:\n",
    "    solution2, coords2, omega2 = pickle.load(f)\n",
    "\n",
    "fig, ax = plt.subplots(1, 1, figsize=(5.55, 1.2), sharex=True, sharey=True)\n",
    "plot = plot_solution(ax, coords2, np.real(solution2[0]), cmap=cm)\n",
    "ax.set_xlabel(r'$x$')\n",
    "ax.set_ylabel(r'$y$')\n",
    "plt.colorbar(plot, orientation='vertical', aspect=10, pad=0.03)\n",
    "plt.savefig('rectangular_cavity_mode5.pdf', bbox_inches='tight')\n",
    "print(omega2)"
   ]
  },
  {
   "cell_type": "code",
   "execution_count": null,
   "metadata": {},
   "outputs": [],
   "source": [
    "with open('rectangular_cavity_norms.pkl', 'rb') as f:\n",
    "    FE_norms, RI_norms, omegas, nodes = pickle.load(f) \n",
    "\n",
    "fig, ax = plt.subplots(3, 1, figsize=(5.55, 4), sharex=True, gridspec_kw={'height_ratios': [5, 5, 1]})\n",
    "\n",
    "ax[0].set_ylabel(r'$||u(\\omega)||_{L_2(\\Omega)}$')\n",
    "ax[0].plot(omegas, FE_norms, color=cm(0.0))\n",
    "\n",
    "ax[1].set_ylabel(r'$||\\tilde{u}(\\omega)||_{L_2(\\Omega)}$')\n",
    "ax[1].plot(omegas, RI_norms, color=cm(0.5))\n",
    "\n",
    "ax[-1].scatter(nodes, np.zeros_like(nodes), s=10, color=cm(0.5))\n",
    "\n",
    "ax[-1].set_yticks([])\n",
    "ax[-1].set_xlabel(r'Frequency $\\omega$')\n",
    "ax[-1].set_xlim(np.min(omegas), np.max(omegas))\n",
    "ax[0].set_yscale('log')\n",
    "ax[1].set_yscale('log')\n",
    "ax[0].grid(axis='y')\n",
    "ax[1].grid(axis='y')\n",
    "ax[0].set_ylim(2e-1, 2e+3)\n",
    "ax[1].set_ylim(2e-1, 2e+3)\n",
    "plt.subplots_adjust(wspace=0, hspace=0)\n",
    "plt.savefig('rectangular_cavity_norms.pgf', bbox_inches='tight')"
   ]
  },
  {
   "cell_type": "code",
   "execution_count": null,
   "metadata": {},
   "outputs": [],
   "source": [
    "with open('rectangular_cavity_errorprogression.pkl', 'rb') as f:\n",
    "    norms, linspace, n_supp, n_iter, nodes, a, b = pickle.load(f)\n",
    "\n",
    "fig, ax = plt.subplots(2, 1, figsize=(5.55, 4), sharex=True, gridspec_kw={'height_ratios': [10, 1]})\n",
    "\n",
    "for i, S in enumerate(n_supp):\n",
    "    ax[0].plot(linspace, np.real(norms[i]), label='S = {}'.format(S), color=cm(i/(len(n_supp)-1)))\n",
    "ax[1].scatter(nodes, np.zeros_like(nodes), s=10, c=cm(np.repeat(np.arange(len(n_supp)+1)/(len(n_supp)-1), 2)), zorder=-n_iter)\n",
    "ax[0].set_ylabel(r'$\\frac{||\\tilde{u}_S(\\omega) - u(\\omega)||_{L_2(\\Omega)}}{||\\tilde{u}_S(\\omega)||_{L_2(\\Omega)}}$')\n",
    "ax[1].set_xlabel(r'Frequency $\\omega$')\n",
    "ax[1].set_xlim(a, b)\n",
    "ax[1].set_yticks([])\n",
    "ax[0].set_yscale('log')\n",
    "ax[0].grid(axis='y')\n",
    "ax[0].legend(loc='lower right')\n",
    "plt.subplots_adjust(wspace=0, hspace=0)\n",
    "plt.savefig('rectangular_cavity_errorprogression.pgf', bbox_inches='tight')"
   ]
  },
  {
   "cell_type": "code",
   "execution_count": 124,
   "metadata": {},
   "outputs": [
    {
     "name": "stderr",
     "output_type": "stream",
     "text": [
      "c:\\Users\\Fabio\\Anaconda3\\lib\\site-packages\\numpy\\core\\_asarray.py:102: ComplexWarning: Casting complex values to real discards the imaginary part\n",
      "  return array(a, dtype, copy=False, order=order)\n"
     ]
    },
    {
     "data": {
      "image/png": "[encoded data removed]",
      "text/plain": [
       "<Figure size 399.6x288 with 5 Axes>"
      ]
     },
     "metadata": {
      "needs_background": "light"
     },
     "output_type": "display_data"
    }
   ],
   "source": [
    "with open('rectangular_cavity_suppressed.pkl', 'rb') as f:\n",
    "    omegas, norms, dotproducts, eigfreqs_analytical, eigfreqs_numerical, eigfreqs_rational = pickle.load(f)\n",
    "\n",
    "fig, ax = plt.subplots(5, 1, figsize=(5.55, 4), sharex=True, gridspec_kw={'height_ratios': [5, 5, 1, 1, 1]})\n",
    "\n",
    "a = 6\n",
    "b = 7\n",
    "\n",
    "ax[0].set_ylabel(r'$||u(\\omega)||_{L_2}$')\n",
    "ax[0].plot(omegas, norms, color='k')\n",
    "ax[0].set_yscale('log')\n",
    "\n",
    "ax[1].set_ylabel(r'$|\\langle f , u(\\omega_{n, m}) \\rangle|$')\n",
    "ax[1].bar(eigfreqs_numerical, dotproducts, width=0.05, color='k')\n",
    "ax[1].set_yscale('log')\n",
    "\n",
    "ax[2].set_ylabel('True', rotation=0, ha='right', va='center')\n",
    "ax[2].scatter(eigfreqs_analytical, np.zeros_like(eigfreqs_analytical), s=10, color=cm(0.8))\n",
    "ax[2].set_yticks([])\n",
    "\n",
    "ax[3].set_ylabel('eigsh', rotation=0, ha='right', va='center')\n",
    "ax[3].scatter(eigfreqs_numerical, np.zeros_like(eigfreqs_numerical), s=10, color=cm(0.0))\n",
    "ax[3].set_yticks([])\n",
    "\n",
    "ax[4].set_ylabel('gMRI', rotation=0, ha='right', va='center')\n",
    "ax[4].scatter(eigfreqs_rational, np.zeros_like(eigfreqs_rational), s=10, color=cm(0.5))\n",
    "ax[4].set_yticks([])\n",
    "\n",
    "ax[-1].set_xlabel(r'Frequency $\\omega$')\n",
    "ax[-1].set_xlim(a, b)\n",
    "\n",
    "plt.subplots_adjust(wspace=0, hspace=0)\n",
    "plt.savefig('rectangular_cavity_suppression.pgf', bbox_inches='tight')"
   ]
  }
 ],
 "metadata": {
  "interpreter": {
   "hash": "550641dcc2a75f21b81887d3698c0825416855549d51b297fed11a34de4c4834"
  },
  "kernelspec": {
   "display_name": "Python 3.8.12 ('base')",
   "language": "python",
   "name": "python3"
  },
  "language_info": {
   "codemirror_mode": {
    "name": "ipython",
    "version": 3
   },
   "file_extension": ".py",
   "mimetype": "text/x-python",
   "name": "python",
   "nbconvert_exporter": "python",
   "pygments_lexer": "ipython3",
   "version": "3.8.12"
  },
  "orig_nbformat": 4
 },
 "nbformat": 4,
 "nbformat_minor": 2
}
