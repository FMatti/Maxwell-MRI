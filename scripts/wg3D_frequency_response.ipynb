{
 "cells": [
  {
   "cell_type": "markdown",
   "metadata": {},
   "source": [
    "## Frequency response of 3D-waveguide"
   ]
  },
  {
   "cell_type": "code",
   "execution_count": 25,
   "metadata": {},
   "outputs": [],
   "source": [
    "import fenics as fen\n",
    "import mshr\n",
    "import helpers\n",
    "import numpy as np\n",
    "import matplotlib.pyplot as plt\n",
    "import wg3D\n",
    "import scipy.sparse\n",
    "import scipy.sparse.linalg"
   ]
  },
  {
   "cell_type": "code",
   "execution_count": 26,
   "metadata": {},
   "outputs": [],
   "source": [
    "def get_solution_L2_norms(omegas, K, M, L, bc, V):\n",
    "    L2_norms = np.empty(len(omegas))\n",
    "    F = fen.assemble(fen.dot(fen.TrialFunction(V), fen.TestFunction(V))*fen.dx)\n",
    "    F_mat = fen.as_backend_type(F).mat()\n",
    "    F_sparse = scipy.sparse.coo_matrix(scipy.sparse.csr_matrix(F_mat.getValuesCSR()[::-1]))\n",
    "    for i, omega in enumerate(omegas):\n",
    "        A = wg3D.solve(omega, K, M, L, bc, V).vector().get_local()\n",
    "        L2_norms[i] = pow(A.T @ F_sparse @ A, 0.5)\n",
    "    return L2_norms"
   ]
  },
  {
   "cell_type": "code",
   "execution_count": 28,
   "metadata": {},
   "outputs": [],
   "source": [
    "def get_analytical_eigenvalues(Lx, Ly, Lz, a, b):\n",
    "    freqs = lambda n, m, l: np.pi*pow(n**2/(Lx)**2 + m**2/(Ly)**2 + (l+0.5)**2/(Lz)**2 , 0.5)\n",
    "    n_max = np.ceil(b * Lx / np.pi).astype('int')\n",
    "    m_max = np.ceil(b * Ly / np.pi).astype('int')\n",
    "    l_max = np.ceil(b * Lz / np.pi - 0.5).astype('int')\n",
    "    eigs_nml = np.empty((n_max, m_max+1, l_max+1))\n",
    "    for n in range(1, n_max+1):\n",
    "        for m in range(m_max+1):\n",
    "            for l in range(l_max+1):\n",
    "                eigs_nml[n-1, m, l] = freqs(n, m, l)\n",
    "    eigs = np.unique(eigs_nml)\n",
    "    return [x for x in eigs if a <= x and x <= b]"
   ]
  },
  {
   "cell_type": "markdown",
   "metadata": {},
   "source": [
    "### Create waveguide and set boundary conditions"
   ]
  },
  {
   "cell_type": "code",
   "execution_count": 29,
   "metadata": {},
   "outputs": [],
   "source": [
    "Lx = 1.0\n",
    "Ly = 1.0\n",
    "Lz = 5.0\n",
    "\n",
    "mu = fen.Expression('1.0', degree=2) # 4*np.pi*1e-7 # magnetic permeability inside waveguide\n",
    "eps = fen.Expression('1.0', degree=2) # 8.854187e-12 # electric permittivity inside waveguide\n",
    "g_inlet = fen.Expression(('1.0', '0.0', '0.0'), degree=2)\n",
    "\n",
    "mesh = fen.BoxMesh(fen.Point(0, 0, 0), fen.Point(Lx, Ly, Lz), 10, 10, 50)\n",
    "\n",
    "class Inlet(fen.SubDomain):\n",
    "    def inside(self, x, on_boundary):\n",
    "        return on_boundary and fen.near(x[2], 0) and x[0]>0 and x[0]<Lx and x[1]>0 and x[1]<Ly\n",
    "    \n",
    "boundary, V, bc = wg3D.create(mesh, Inlet())"
   ]
  },
  {
   "cell_type": "markdown",
   "metadata": {},
   "source": [
    "### Get stiffness and mass matrices and add forcing term"
   ]
  },
  {
   "cell_type": "code",
   "execution_count": 30,
   "metadata": {},
   "outputs": [],
   "source": [
    "# Setup\n",
    "K, M, L = wg3D.setup(boundary, g_inlet, mu, eps, V)"
   ]
  },
  {
   "cell_type": "markdown",
   "metadata": {},
   "source": [
    "### Observe frequency response"
   ]
  },
  {
   "cell_type": "code",
   "execution_count": 32,
   "metadata": {},
   "outputs": [
    {
     "data": {
      "image/png": "[encoded data removed]",
      "text/plain": [
       "<Figure size 432x288 with 1 Axes>"
      ]
     },
     "metadata": {
      "needs_background": "light"
     },
     "output_type": "display_data"
    }
   ],
   "source": [
    "# Observe frequency response\n",
    "omegas = np.linspace(2.5, 4.5, 100)\n",
    "L2_norms =  get_solution_L2_norms(omegas, K, M, L, bc, V)\n",
    "plt.plot(omegas, L2_norms)\n",
    "plt.xlabel('Frequency omega')\n",
    "plt.ylabel('L2-norm of solution')\n",
    "\n",
    "# Expected location of peaks\n",
    "ev = get_analytical_eigenvalues(Lx, Ly, Lz, omegas[0], omegas[-1])\n",
    "[plt.axvline(x) for x in ev]\n",
    "plt.show()"
   ]
  }
 ],
 "metadata": {
  "kernelspec": {
   "display_name": "Python 3",
   "language": "python",
   "name": "python3"
  },
  "language_info": {
   "codemirror_mode": {
    "name": "ipython",
    "version": 3
   },
   "file_extension": ".py",
   "mimetype": "text/x-python",
   "name": "python",
   "nbconvert_exporter": "python",
   "pygments_lexer": "ipython3",
   "version": "3.6.7"
  }
 },
 "nbformat": 4,
 "nbformat_minor": 2
}
