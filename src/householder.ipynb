{
 "cells": [
  {
   "cell_type": "code",
   "execution_count": 1,
   "metadata": {},
   "outputs": [],
   "source": [
    "import fenics as fen\n",
    "import dolfin\n",
    "import numpy as np\n",
    "from examples.rectangular_waveguide.rectangular_waveguide import RectangularWaveguide"
   ]
  },
  {
   "cell_type": "code",
   "execution_count": 2,
   "metadata": {},
   "outputs": [],
   "source": [
    "Lx, Ly = 5.0, 1.0\n",
    "Nx, Ny = 201, 41\n",
    "m = 2\n",
    "g_N = fen.Expression('sin(x[1]*m*pi/Ly)', degree=2, Ly=Ly, m=m)\n",
    "WG = RectangularWaveguide(Lx=Lx, Ly=Ly, Nx=Nx, Ny=Ny, g_N=g_N)\n",
    "WG.setup()"
   ]
  },
  {
   "cell_type": "code",
   "execution_count": 3,
   "metadata": {},
   "outputs": [],
   "source": [
    "N = 6\n",
    "A = []\n",
    "omegas = np.linspace(3, 4, N)\n",
    "for omega in omegas:\n",
    "    WG.solve(omega)\n",
    "    A_sol = WG.get_solution()\n",
    "    A.append(A_sol)"
   ]
  },
  {
   "cell_type": "code",
   "execution_count": 4,
   "metadata": {},
   "outputs": [],
   "source": [
    "e0 = fen.Expression('1', degree=2)\n",
    "e1 = fen.Expression('x[0]', degree=2)\n",
    "E = []\n",
    "for m in range(N):\n",
    "    ei = fen.Function(WG.V)\n",
    "    if m == 0:\n",
    "        e = e0\n",
    "    elif m == 1:\n",
    "        e = e1\n",
    "    else:\n",
    "        e = fen.Expression('((2*m-1)*x[0]*P - (m - 1)*Q) / m', degree=2, m=m, P=E[m-1], Q=E[m-2])\n",
    "    ei = fen.interpolate(e, WG.V)\n",
    "    E.append(ei)"
   ]
  },
  {
   "cell_type": "code",
   "execution_count": 5,
   "metadata": {},
   "outputs": [],
   "source": [
    "M = WG.get_M(tosparse=False) # Only valid if WG.eps = 1.0!\n",
    "def inner(v, w):\n",
    "    #return (v.vector()*(M*w.vector())).sum()\n",
    "    return (v.vector()*(w.vector())).sum()\n",
    "def EEv(E, v, k):\n",
    "    inner_Ev = [inner(e, v) for e in E[:k-1]]\n",
    "    f = fen.Function(WG.V)\n",
    "    f.vector()[:] = 0\n",
    "    for i in range(k-1):\n",
    "        f.vector()[:] = f.vector()[:] + E[i].vector()[:] * inner_Ev[i]\n",
    "    return f\n",
    "def vvA(v, A, k, N):\n",
    "    inner_vA = [inner(v, a) for a in A[k:N]]\n",
    "    F = []\n",
    "    for j in range(k, N):\n",
    "        f = fen.Function(WG.V)\n",
    "        f.vector()[:] = 0\n",
    "        for i in range(len(inner_vA)):\n",
    "            f.vector()[:] = f.vector()[:] + v.vector()[:] * inner_vA[i]\n",
    "        F.append(f)\n",
    "    return F"
   ]
  },
  {
   "cell_type": "code",
   "execution_count": 6,
   "metadata": {},
   "outputs": [
    {
     "name": "stderr",
     "output_type": "stream",
     "text": [
      "/usr/local/lib/python3.6/dist-packages/ipykernel_launcher.py:14: RuntimeWarning: invalid value encountered in multiply\n",
      "  \n",
      "/usr/local/lib/python3.6/dist-packages/ipykernel_launcher.py:26: RuntimeWarning: invalid value encountered in multiply\n"
     ]
    }
   ],
   "source": [
    "R = np.zeros((N, N))\n",
    "A_ = []\n",
    "A_[:] = A[:]\n",
    "for k in range(N):\n",
    "    e = E[k]\n",
    "    a = A_[k]\n",
    "    rho = pow(inner(a, a), 0.5)\n",
    "    R[k, k] = rho\n",
    "    alpha = inner(e, a)\n",
    "    s = 1 if alpha == 0 else - alpha / abs(alpha)\n",
    "    e.vector()[:] = s * e.vector()[:]\n",
    "    E[k] = e\n",
    "    v = fen.Function(WG.V)\n",
    "    v.vector()[:] = rho * e.vector()[:] - a.vector()[:]\n",
    "    v.vector()[:] = v.vector()[:] - EEv(E, v, k).vector()[:]\n",
    "    sigma = pow(inner(a, a), 0.5)\n",
    "    if sigma == 0:\n",
    "        v.vector()[:] = e.vector()[:]\n",
    "    else:\n",
    "        v.vector()[:] = v.vector()[:] / sigma\n",
    "    for j in range(k+1, N):\n",
    "        A_[j].vector()[:] = A_[j].vector()[:] - 2*vvA(v, A_, k, N)[j-k].vector()[:]\n",
    "    for j in range(k+1, N):\n",
    "        R[k, j] = inner(e, A_[j])\n",
    "    for j in range(k, N):\n",
    "        A_[j].vector()[:] = A_[j].vector()[:] - e.vector()[:] * R[k, j]"
   ]
  },
  {
   "cell_type": "code",
   "execution_count": 7,
   "metadata": {},
   "outputs": [
    {
     "data": {
      "text/plain": [
       "array([[  5.21687631e+000,   1.14572274e+006,  -3.83255714e+010,\n",
       "          1.28202869e+015,  -4.28851417e+019,               nan],\n",
       "       [  1.14572274e+006,   4.20812553e+015,   4.77987632e+041,\n",
       "         -1.34025410e+047,   3.75800741e+052,               nan],\n",
       "       [ -3.83255714e+010,   4.77987632e+041,   7.57702494e+072,\n",
       "         -3.03753273e+107,   4.10753931e+122,               nan],\n",
       "       [  1.28202869e+015,  -1.34025410e+047,  -3.03753273e+107,\n",
       "          5.49985451e+148,   1.04608445e+202,               nan],\n",
       "       [ -4.28851417e+019,   3.75800741e+052,   4.10753931e+122,\n",
       "          1.04608445e+202,   4.36482853e+263,               nan],\n",
       "       [              nan,               nan,               nan,\n",
       "                      nan,               nan,               inf]])"
      ]
     },
     "execution_count": 7,
     "metadata": {},
     "output_type": "execute_result"
    }
   ],
   "source": [
    "R.T @ R"
   ]
  },
  {
   "cell_type": "code",
   "execution_count": 10,
   "metadata": {},
   "outputs": [
    {
     "data": {
      "text/plain": [
       "5.899358075034189e+20"
      ]
     },
     "execution_count": 10,
     "metadata": {},
     "output_type": "execute_result"
    }
   ],
   "source": [
    "inner(A[1], A[1])"
   ]
  }
 ],
 "metadata": {
  "kernelspec": {
   "display_name": "Python 3",
   "language": "python",
   "name": "python3"
  },
  "language_info": {
   "codemirror_mode": {
    "name": "ipython",
    "version": 3
   },
   "file_extension": ".py",
   "mimetype": "text/x-python",
   "name": "python",
   "nbconvert_exporter": "python",
   "pygments_lexer": "ipython3",
   "version": "3.6.7"
  }
 },
 "nbformat": 4,
 "nbformat_minor": 2
}
