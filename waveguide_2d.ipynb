{
 "cells": [
  {
   "cell_type": "code",
   "execution_count": 412,
   "metadata": {},
   "outputs": [],
   "source": [
    "import numpy as np\n",
    "import fenics as fen\n",
    "import scipy.sparse\n",
    "\n",
    "class MaxwellProblem(object):\n",
    "    \"\"\"\n",
    "    Finite element solver for problems of the type\n",
    "    \n",
    "        \\/ x ((1 / mu) \\/ x A) - eps * omega^2 * A = j\n",
    "\n",
    "    with boundary conditions\n",
    "\n",
    "        A = A_0                     (Dirichlet boundaries, B_D)\n",
    "        ((1 / mu) \\/ x A) x n = g   (Neumann boundaries, B_N)\n",
    " \n",
    "    Members\n",
    "    -------\n",
    "    V : dolfin.functions.functionspace.FunctionSpace\n",
    "        Real FE space.\n",
    "    A : dolfin.functions.function.TrialFunction\n",
    "        Trial function.\n",
    "    v : dolfin.functions.function.TestFunction\n",
    "        Test function.\n",
    "    K : dolfin.cpp.la.Matrix\n",
    "        Stiffness matrix.  \n",
    "    M : dolfin.cpp.la.Matrix\n",
    "        Mass matrix.\n",
    "    L : dolfin.cpp.la.Vector\n",
    "        Source term vector.\n",
    "    mu : dolfin.functions.expression.Expression\n",
    "        Permeability.\n",
    "    eps : dolfin.functions.expression.Expression\n",
    "        Permittivity.\n",
    "    j : dolfin.functions.expression.Expression\n",
    "        Current density\n",
    "    B_D : dolfin.cpp.mesh.SubDomain\n",
    "        SubDomain object locating the Dirichlet boundary.\n",
    "    B_N : dolfin.cpp.mesh.SubDomain\n",
    "        SubDomain object locating the Neumann boundary.\n",
    "    A_0 : dolfin.functions.expression.Expression\n",
    "        Dirichlet boundary condition.\n",
    "    g : dolfin.functions.expression.Expression\n",
    "        Neumann boundary condition.\n",
    "    A_sol : dolfin.functions.function.Function\n",
    "        Solution to the variational problem.\n",
    "    F_norm : dolfin.cpp.la.Matrix\n",
    "        Matrix used to compute L2-norm of A_sol.\n",
    "    bc : dolfin.fem.bcs.DirichletBC\n",
    "        Dirichlet boundary condition object.\n",
    "    omega : float\n",
    "        Frequency for which the variational problem is solved.\n",
    "\n",
    "    Methods\n",
    "    -------\n",
    "    tosparse(A) : dolfin.cpp.la.Matrix -> scipy.sparse.csr_matrix\n",
    "        Convert dolfin matrix to scipy sparse matrix in the CSR format.\n",
    "    setup() : None -> None\n",
    "        Assemble the stiffness, mass, and source terms.\n",
    "    solve(omega) : float -> None\n",
    "        Computes the solution to the weak variational problem at omega.\n",
    "\n",
    "    References\n",
    "    ----------\n",
    "    [1] TODO\n",
    "    \n",
    "    Usage\n",
    "    -----\n",
    "    [TODO: Minimal usage example]\n",
    "    \"\"\"\n",
    "\n",
    "    def __init__(self, V, mu, eps, j, B_D, B_N, A_0, g):\n",
    "        self.V = V\n",
    "        self.A = fen.TrialFunction(self.V)\n",
    "        self.v = fen.TestFunction(self.V)\n",
    "        self.K = None\n",
    "        self.M = None\n",
    "        self.L = None\n",
    "        self.N = None\n",
    "        self.mu = mu\n",
    "        self.eps = eps\n",
    "        self.j = j\n",
    "        self.B_D = B_D\n",
    "        self.B_N = B_N\n",
    "        self.A_0 = A_0\n",
    "        self.g = g\n",
    "        self.A_sol = None\n",
    "        self.F_norm = None\n",
    "        self.bc = None\n",
    "        self.omega = None\n",
    "\n",
    "    def setup(self):\n",
    "        # Boundary function to indicated Dirichlet and Neumann boundaries\n",
    "        what_boundary = fen.MeshFunction('size_t', mesh, mesh.topology().dim() - 1)\n",
    "        self.B_N.mark(what_boundary, 1)\n",
    "        self.B_D.mark(what_boundary, 2)\n",
    "\n",
    "        # Neumann boundary conditions\n",
    "        #ds = fen.Measure('ds', subdomain_data=what_boundary)\n",
    "        self.N = fen.assemble(fen.dot(self.g, self.v) * fen.ds) #(2))\n",
    "\n",
    "        # Dirichlet boundary conditions\n",
    "        self.bc = fen.DirichletBC(self.V, self.A_0, what_boundary, 2)\n",
    "\n",
    "        # Assembly of stiffness, mass, and forcing term\n",
    "        self.K = fen.assemble(1/self.mu * fen.dot(fen.curl(self.A), fen.curl(self.v)) * fen.dx)\n",
    "        self.bc.apply(self.K)\n",
    "\n",
    "        self.M = fen.assemble(self.eps * fen.dot(self.A, self.v) * fen.dx)\n",
    "        self.bc.zero(self.M)\n",
    "\n",
    "        self.L = fen.assemble(fen.dot(self.j, self.v) * fen.dx)\n",
    "        self.bc.apply(self.L)\n",
    "\n",
    "    def solve(self, omega):\n",
    "        self.omega = omega\n",
    "        LHS = self.K - omega**2 * self.M\n",
    "        RHS = self.L + self.N\n",
    "        self.A_sol = fen.Function(self.V)\n",
    "        fen.solve(LHS, self.A_sol.vector(), RHS)\n",
    "\n",
    "    @staticmethod\n",
    "    def tosparse(A):\n",
    "        A_mat = fen.as_backend_type(A).mat()\n",
    "        A_sparse = scipy.sparse.csr_matrix(A_mat.getValuesCSR()[::-1])\n",
    "        return A_sparse\n",
    "\n",
    "    def get_K(self): \n",
    "        return self.tosparse(self.K)\n",
    "    \n",
    "    def get_M(self): \n",
    "        return self.tosparse(self.M)\n",
    "    \n",
    "    def get_L(self): \n",
    "        return self.L.get_local()\n",
    "    \n",
    "    def get_solution(self):\n",
    "        return self.A_sol\n",
    "\n",
    "    def compute_solution_norm(self):\n",
    "        if self.F_norm is None:\n",
    "            self.F_norm = fen.assemble(fen.dot(fen.TrialFunction(V), fen.TestFunction(V)) * fen.dx)\n",
    "        return pow((self.A_sol.vector()*(self.F_norm*self.A_sol.vector())).sum(), 0.5)\n",
    "    \n",
    "    def get_boundary_indices_and_values(self):\n",
    "        boundary_dict = self.bc.get_boundary_values()\n",
    "        boundary_indices = list(boundary_dict.keys())\n",
    "        boundary_values = list(boundary_dict.values())\n",
    "        return boundary_indices, boundary_values\n",
    "\n",
    "    def get_valid_indices(self):\n",
    "        boundary_indices, _ = self.get_boundary_indices_and_values()\n",
    "        all_indices = V.dofmap().dofs()\n",
    "        valid_indices = np.delete(all_indices, boundary_indices)\n",
    "        return valid_indices\n",
    "    \n",
    "    def insert_boundary_values(self, A_vec):\n",
    "        boundary_indices, boundary_values = self.get_boundary_indices_and_values()\n",
    "        valid_indices = self.get_valid_indices()\n",
    "        A_vec_inserted = np.empty(len(boundary_indices) + len(valid_indices))\n",
    "        A_vec_inserted[valid_indices] = A_vec\n",
    "        A_vec_inserted[boundary_indices] = boundary_values\n",
    "        return A_vec_inserted"
   ]
  },
  {
   "cell_type": "code",
   "execution_count": 413,
   "metadata": {},
   "outputs": [],
   "source": [
    "class RectangularWaveguide(MaxwellProblem):\n",
    "    def __init__(self, Lx, Ly, res, g):\n",
    "        domain = mshr.Rectangle(fen.Point(0.0, 0.0), fen.Point(Lx, Ly))\n",
    "        mesh = mshr.generate_mesh(domain, n)\n",
    "        self.V = fen.FunctionSpace(mesh, 'P', 1)\n",
    "\n",
    "        mu = fen.Expression('1.0', degree=2)\n",
    "        eps = fen.Expression('1.0', degree=2)\n",
    "        j = fen.Expression('0.0', degree=2)\n",
    "\n",
    "        class B_N(fen.SubDomain):\n",
    "            def inside(self, x, on_boundary):\n",
    "                return on_boundary and fen.near(x[0], 0.0) and x[1]>0.0 and x[1]<Ly\n",
    "\n",
    "        class B_D(fen.SubDomain):\n",
    "            def inside(self, x, on_boundary):\n",
    "                return on_boundary and not B_N().inside(x, 'on_boundary')\n",
    "\n",
    "        A_0 = fen.Expression('0.0', degree=2)\n",
    "\n",
    "        MaxwellProblem.__init__(self, V, mu, eps, j, B_D(), B_N(), A_0, g)\n",
    "\n",
    "    def plot_solution(self):\n",
    "        plt.title(f'Solution to system at frequency \\u03A9 = {self.omega} rad/s')\n",
    "        fig = fen.plot(self.A_sol)\n",
    "        plt.colorbar(fig, orientation='horizontal')\n",
    "\n",
    "    def plot_external_solution(self, A_vec, omega=None):\n",
    "        plt.figure()\n",
    "        if omega is not None:\n",
    "            plt.title(f'Solution to system at frequency \\u03A9 = {omega} rad/s')\n",
    "        A_func = fen.Function(self.V)\n",
    "        A_func.vector()[:] = self.insert_boundary_values(A_vec)\n",
    "        fen.plot(A_func)\n",
    "        fig = fen.plot(self.A_sol)\n",
    "        plt.colorbar(fig, orientation='horizontal')\n",
    "        plt.show()\n",
    "\n",
    "    def get_analytical_eigenfrequencies(self, a, b):\n",
    "        freqs = lambda n, m: np.pi*pow(n**2/(Ly)**2 + (m+0.5)**2/(Lx)**2 , 0.5)\n",
    "        n_max = np.ceil(b * Ly / np.pi).astype('int')\n",
    "        m_max = np.ceil(b * Lx / np.pi - 0.5).astype('int')\n",
    "        eigs = np.unique(np.frompyfunc(freqs, 2, 1).outer(range(1, n_max+1), range(m_max+1)))\n",
    "        return [e for e in eigs if a <= e and e <= b]"
   ]
  },
  {
   "cell_type": "code",
   "execution_count": 414,
   "metadata": {},
   "outputs": [
    {
     "data": {
      "image/png": "[encoded data removed]",
      "text/plain": [
       "<Figure size 432x288 with 2 Axes>"
      ]
     },
     "metadata": {
      "needs_background": "light"
     },
     "output_type": "display_data"
    }
   ],
   "source": [
    "WG = RectangularWaveguide(Lx=1., Ly=5., res=64, g=fen.Expression('1.', degree=2))\n",
    "WG.setup()\n",
    "WG.solve(3.14)\n",
    "WG.plot_solution()"
   ]
  },
  {
   "cell_type": "code",
   "execution_count": 417,
   "metadata": {},
   "outputs": [
    {
     "data": {
      "image/png": "[encoded data removed]",
      "text/plain": [
       "<Figure size 432x288 with 2 Axes>"
      ]
     },
     "metadata": {
      "needs_background": "light"
     },
     "output_type": "display_data"
    }
   ],
   "source": [
    "WG.plot_external_solution(ev[3], 0.134)"
   ]
  },
  {
   "cell_type": "code",
   "execution_count": 415,
   "metadata": {},
   "outputs": [],
   "source": [
    "import scipy.sparse.linalg\n",
    "\n",
    "def solve_eigenproblem(K, M, a=-np.inf, b=np.inf, k=10, valid_indices=None, v0=None):\n",
    "\n",
    "    if valid_indices is not None:\n",
    "        K = K[valid_indices, :][:, valid_indices]\n",
    "        M = M[valid_indices, :][:, valid_indices]\n",
    "        if v0 is not None:\n",
    "            v0 = v0[valid_indices]\n",
    "    \n",
    "    if a == -np.inf or b == np.inf:\n",
    "        sigma = 0.0\n",
    "    else:\n",
    "        sigma = (a + b) / 2.0\n",
    "    eigvals, eigvecs = scipy.sparse.linalg.eigsh(K, k=k, M=M, sigma=sigma, v0=v0)\n",
    "\n",
    "    eigvals_in_ab = [e1 for e1 in eigvals if a <= e1 and e1 <= b]\n",
    "    eigvecs_in_ab = [e2 for e1, e2 in zip(eigvals, eigvecs.T) if a <= e1 and e1 <= b]\n",
    "\n",
    "    if len(eigvals_in_ab) == k:\n",
    "        print(f'WARNING: Found exactly {k} eigenvalues within [{a}, {b}].')\n",
    "        print('Increase parameter \"k\" to make sure all eigenvalues are found.')\n",
    "    \n",
    "    return eigvals_in_ab, eigvecs_in_ab"
   ]
  },
  {
   "cell_type": "code",
   "execution_count": 419,
   "metadata": {},
   "outputs": [],
   "source": [
    "def plot_L2_norms(ax, WG, omegas):\n",
    "    L2_norms = np.empty(len(omegas))\n",
    "    for i, omega in enumerate(omegas):\n",
    "        WG.solve(omega)\n",
    "        L2_norms[i] = WG.compute_solution_norm()\n",
    "    ax.plot(omegas, L2_norms)\n",
    "    ax.set_yscale('log')"
   ]
  },
  {
   "cell_type": "code",
   "execution_count": 420,
   "metadata": {},
   "outputs": [],
   "source": [
    "def plot_analytical_eigenfrequencies(ax, WG, a, b, **kwargs):\n",
    "    eigenfrequencies = WG.get_analytical_eigenfrequencies(a, b)\n",
    "    ax.vlines(eigenfrequencies, ymin=0, ymax=1, **kwargs)"
   ]
  },
  {
   "cell_type": "code",
   "execution_count": 421,
   "metadata": {},
   "outputs": [],
   "source": [
    "def plot_numerical_eigenfrequencies(ax, WG, a, b, **kwargs):\n",
    "    K = WG.get_K()\n",
    "    M = WG.get_M()\n",
    "    valid_indices = WG.get_valid_indices()\n",
    "    eigenfrequencies, _ = solve_eigenproblem(K, M, a=a, b=b, k=10, valid_indices=None, v0=None)\n",
    "    ax.vlines(np.sqrt(eigenfrequencies), ymin=1, ymax=2, **kwargs)"
   ]
  },
  {
   "cell_type": "code",
   "execution_count": 422,
   "metadata": {},
   "outputs": [],
   "source": [
    "def eigvec_dot_N(eigvec, V, bc, L):\n",
    "    full_eigvec = insert_boundary_values(eigvec, V, bc)\n",
    "    return np.inner(full_eigvec, L.get_local())\n",
    "# TODO: def plot_eigvec_dot_N(ax, ...)"
   ]
  },
  {
   "cell_type": "code",
   "execution_count": 423,
   "metadata": {},
   "outputs": [
    {
     "data": {
      "image/png": "[encoded data removed]",
      "text/plain": [
       "<Figure size 432x288 with 3 Axes>"
      ]
     },
     "metadata": {
      "needs_background": "light"
     },
     "output_type": "display_data"
    }
   ],
   "source": [
    "fig, ax = plt.subplots(3, 1, sharex=True)\n",
    "omegas = np.linspace(3, 5, 100)\n",
    "plot_L2_norms(ax[0], WG, omegas)\n",
    "plot_numerical_eigenfrequencies(ax[1], WG, omegas[0]**2, omegas[-1]**2)\n",
    "plot_analytical_eigenfrequencies(ax[1], WG, omegas[0], omegas[-1])"
   ]
  }
 ],
 "metadata": {
  "kernelspec": {
   "display_name": "Python 3",
   "language": "python",
   "name": "python3"
  },
  "language_info": {
   "codemirror_mode": {
    "name": "ipython",
    "version": 3
   },
   "file_extension": ".py",
   "mimetype": "text/x-python",
   "name": "python",
   "nbconvert_exporter": "python",
   "pygments_lexer": "ipython3",
   "version": "3.6.7"
  }
 },
 "nbformat": 4,
 "nbformat_minor": 2
}
